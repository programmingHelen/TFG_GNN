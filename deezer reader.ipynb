{
 "cells": [
  {
   "cell_type": "markdown",
   "id": "2cc133c1-cafc-44cb-99fa-7dbc75270479",
   "metadata": {},
   "source": [
    "# JSON READER FOR DEEZER DATASETS"
   ]
  },
  {
   "cell_type": "code",
   "execution_count": 1,
   "id": "33d6664b-a53f-4e0b-859d-dfaea637280e",
   "metadata": {},
   "outputs": [],
   "source": [
    "import json\n",
    "import pandas as pd\n",
    "\n",
    "# Disclaimer: The following code is designed to process JSON data containing genre information. \n",
    "# It is intended to be versatile and can be used with datasets related to various genres, including RO, HU, or HR.\n",
    "\n",
    "# Path to the JSON file\n",
    "file_path = 'RO_genres.json'\n",
    "\n",
    "# Load JSON data from the file\n",
    "with open(file_path, 'r') as file:\n",
    "    json_data = json.load(file)\n",
    "\n",
    "# Replace spaces with underscores in all keys and lists\n",
    "updated_data = {key.replace(' ', '_'): [genre.replace(' ', '_') for genre in value] for key, value in json_data.items()}\n",
    "\n",
    "# Flatten the list of genres and create a set to ensure uniqueness\n",
    "unique_genres_set = set(genre for genres_list in updated_data.values() for genre in genres_list)\n",
    "\n",
    "# Convert the set back to a list\n",
    "ALL_GENRES = list(unique_genres_set)\n",
    "\n",
    "# Print lengths of the lists\n",
    "list_lengths = []\n",
    "for key, value in updated_data.items():\n",
    "    list_lengths.append([key, len(value)])\n",
    "\n",
    "json_data = updated_data\n",
    "\n",
    "converted_data = {}\n",
    "classes = []\n",
    "for key, genres_list in json_data.items():\n",
    "    # Create a binary sequence representing the presence of each genre\n",
    "    binary_sequence = [1 if genre in genres_list else 0 for genre in ALL_GENRES]\n",
    "    binary_sequence.append(genres_list[0])  # Append the original class\n",
    "    classes.append(genres_list[0])\n",
    "    converted_data[key] = binary_sequence\n",
    "\n",
    "output_file_path = \"RO.content\"\n",
    "# Open the file in write mode and redirect the print output to the file\n",
    "with open(output_file_path, 'w') as file:\n",
    "    for key, binary_sequence in converted_data.items():\n",
    "        # Format the output as requested\n",
    "        formatted_output = '\\t'.join([str(item) for item in [key] + binary_sequence])\n",
    "\n",
    "        # Write the formatted output to the file\n",
    "        file.write(formatted_output + '\\n')"
   ]
  },
  {
   "cell_type": "code",
   "execution_count": 2,
   "id": "d2c7c6a5-86c0-4601-b2b8-8c259a7ed5e6",
   "metadata": {},
   "outputs": [],
   "source": [
    "ro_data = pd.read_csv('RO_edges.csv')\n",
    "# Specify the output file path\n",
    "output_file_path = 'RO.cites'\n",
    "\n",
    "# Write the DataFrame to a text file\n",
    "ro_data.to_csv(output_file_path, sep='\\t', index=False)"
   ]
  },
  {
   "cell_type": "markdown",
   "id": "b6cedd57-1627-42ae-bfcf-f6036d17d10f",
   "metadata": {},
   "source": [
    "### Check if the labels are balanced and if not continue"
   ]
  },
  {
   "cell_type": "code",
   "execution_count": 3,
   "id": "38a6e818-48ec-4bfe-94c4-454f7047b620",
   "metadata": {},
   "outputs": [
    {
     "name": "stdout",
     "output_type": "stream",
     "text": [
      "Films/Games: 4154\n",
      "Reggae: 1973\n",
      "Pop: 5658\n",
      "Dance: 9029\n",
      "Alternative: 1444\n",
      "R&B: 1178\n",
      "International_Pop: 2416\n",
      "Rap/Hip_Hop: 4440\n",
      "Indie_Rock: 2206\n",
      "Dancefloor: 1508\n",
      "Electro_Hip_Hop: 184\n",
      "Classical: 397\n",
      "Hard_Rock: 441\n",
      "Electro: 645\n",
      "Jazz: 224\n",
      "Comedy: 257\n",
      "Metal: 276\n",
      "Film_Scores: 716\n",
      "Spirituality_&_Religion: 143\n",
      "Kids: 307\n",
      "Techno/House: 795\n",
      "Country: 127\n",
      "Indie_Pop/Folk: 529\n",
      "Dirty_South: 502\n",
      "Folk: 91\n",
      "Blues: 83\n",
      "Latin_Music: 350\n",
      "Urban_Cowboy: 13\n",
      "Rock: 530\n",
      "Indie_Pop: 164\n",
      "Disco: 97\n",
      "Rock_&_Roll/Rockabilly: 163\n",
      "Opera: 215\n",
      "Singer_&_Songwriter: 91\n",
      "Modern: 5\n",
      "Indie_Rock/Rock_pop: 53\n",
      "Indian_Music: 5\n",
      "Dancehall/Ragga: 59\n",
      "Soul_&_Funk: 32\n",
      "Soundtracks: 47\n",
      "Classical_Period: 12\n",
      "Oldschool_R&B: 18\n",
      "Asian_Music: 28\n",
      "Chill_Out/Trip-Hop/Lounge: 16\n",
      "East_Coast: 1\n",
      "Bolero: 8\n",
      "Brazilian_Music: 44\n",
      "Instrumental_jazz: 22\n",
      "Trance: 7\n",
      "Tropical: 7\n",
      "Contemporary_R&B: 3\n",
      "Alternative_Country: 4\n",
      "Jazz_Hip_Hop: 13\n",
      "Grime: 7\n",
      "Chicago_Blues: 1\n",
      "Baroque: 6\n",
      "TV_Soundtracks: 6\n",
      "Dubstep: 2\n",
      "African_Music: 6\n",
      "Electric_Blues: 3\n",
      "Vocal_jazz: 1\n",
      "Sports: 2\n",
      "Country_Blues: 1\n",
      "Contemporary_Soul: 2\n",
      "Nursery_Rhymes: 1\n",
      "Musicals: 3\n",
      "Bluegrass: 1\n",
      "Kids_&_Family: 1\n"
     ]
    }
   ],
   "source": [
    "from collections import Counter\n",
    "import random\n",
    "\n",
    "# Count the occurrences of each genre\n",
    "genre_counts = Counter(classes)\n",
    "\n",
    "for genre, count in genre_counts.items():\n",
    "    print(f\"{genre}: {count}\")"
   ]
  },
  {
   "cell_type": "markdown",
   "id": "038e6c64-c667-4465-a785-f379b2fe7a48",
   "metadata": {},
   "source": [
    "# REDUCE DEEZER DATASET"
   ]
  },
  {
   "cell_type": "markdown",
   "id": "460837f6-9087-4abb-906c-715be03ebbfc",
   "metadata": {},
   "source": [
    "## Add the genre Others for all the genres that have less than 360 observations"
   ]
  },
  {
   "cell_type": "code",
   "execution_count": 4,
   "id": "b66bc716-9661-4cd4-9f90-1c6ad1369117",
   "metadata": {},
   "outputs": [
    {
     "name": "stdout",
     "output_type": "stream",
     "text": [
      "'Films/Games': 4154,\n",
      "'Reggae': 1973,\n",
      "'Pop': 5658,\n",
      "'Dance': 9029,\n",
      "'Alternative': 1444,\n",
      "'R&B': 1178,\n",
      "'International_Pop': 2416,\n",
      "'Rap/Hip_Hop': 4440,\n",
      "'Indie_Rock': 2206,\n",
      "'Dancefloor': 1508,\n",
      "'Others': 3212,\n",
      "'Classical': 397,\n",
      "'Hard_Rock': 441,\n",
      "'Electro': 645,\n",
      "'Film_Scores': 716,\n",
      "'Techno/House': 795,\n",
      "'Indie_Pop/Folk': 529,\n",
      "'Dirty_South': 502,\n",
      "'Rock': 530,\n"
     ]
    }
   ],
   "source": [
    "# Count the occurrences of each genre\n",
    "genre_counts = Counter(classes)\n",
    "\n",
    "# Set the threshold for grouping genres into \"Others\"\n",
    "threshold = 360\n",
    "\n",
    "# Identify genres to aggregate\n",
    "genres_to_aggregate = [genre for genre, count in genre_counts.items() if count < threshold]\n",
    "\n",
    "new_ALL_GENRES = list(set(ALL_GENRES) - set(genres_to_aggregate))\n",
    "\n",
    "clases_updated = []\n",
    "\n",
    "for key, genres_list in json_data.items():\n",
    "    # Replace genres to be aggregated with 'Others'\n",
    "    genres_list_updated = [genre if genre not in genres_to_aggregate else 'Others' for genre in genres_list]\n",
    "    clases_updated.append(genres_list_updated[0])\n",
    "\n",
    "\n",
    "# Print the counts for each genre after grouping\n",
    "updated_genre_counts = Counter(clases_updated)\n",
    "for genre, count in updated_genre_counts.items():\n",
    "    print(f\"'{genre}': {count},\")\n"
   ]
  },
  {
   "cell_type": "code",
   "execution_count": 5,
   "id": "6e51c9c2-4992-4261-8726-26ef1595b30c",
   "metadata": {},
   "outputs": [
    {
     "name": "stdout",
     "output_type": "stream",
     "text": [
      "Films: 5267\n",
      "Reggae: 1973\n",
      "Pop: 8074\n",
      "Electronic: 11977\n",
      "Alternative: 3151\n",
      "Hip-Hop: 4942\n",
      "Rock: 3177\n",
      "Others: 3212\n"
     ]
    }
   ],
   "source": [
    "\n",
    "# COPY HERE THE OUTPUT OF THE PREVIOUS CELL\n",
    "genre_counts = {\n",
    "    'Films/Games': 4154,\n",
    "    'Reggae': 1973,\n",
    "    'Pop': 5658,\n",
    "    'Dance': 9029,\n",
    "    'Alternative': 1444,\n",
    "    'R&B': 1178,\n",
    "    'International_Pop': 2416,\n",
    "    'Rap/Hip_Hop': 4440,\n",
    "    'Indie_Rock': 2206,\n",
    "    'Dancefloor': 1508,\n",
    "    'Others': 3212,\n",
    "    'Classical': 397,\n",
    "    'Hard_Rock': 441,\n",
    "    'Electro': 645,\n",
    "    'Film_Scores': 716,\n",
    "    'Techno/House': 795,\n",
    "    'Indie_Pop/Folk': 529,\n",
    "    'Dirty_South': 502,\n",
    "    'Rock': 530,\n",
    "}\n",
    "\n",
    "# GROUP THE GENRES IN THE CATEGORIES YOU WANT\n",
    "genre_groups = {\n",
    "    'Films/Games': 'Films',\n",
    "    'Reggae': 'Reggae',\n",
    "    'Pop': 'Pop',\n",
    "    'Dance': 'Electronic',\n",
    "    'Alternative': 'Alternative',\n",
    "    'R&B': 'Alternative',\n",
    "    'International_Pop': 'Pop',\n",
    "    'Rap/Hip_Hop': 'Hip-Hop',\n",
    "    'Indie_Rock': 'Rock',\n",
    "    'Dancefloor': 'Electronic',\n",
    "    'Classical': 'Films',\n",
    "    'Hard_Rock': 'Rock',\n",
    "    'Electro': 'Electronic',\n",
    "    'Film_Scores': 'Films',\n",
    "    'Techno/House': 'Electronic',\n",
    "    'Indie_Pop/Folk': 'Alternative',\n",
    "    'Dirty_South': 'Hip-Hop',\n",
    "    'Rock': 'Rock',\n",
    "}\n",
    "\n",
    "# Create a dictionary to store counts for each custom genre group\n",
    "group_counts = Counter()\n",
    "max_count = {}\n",
    "new_ALL_GENRES = []\n",
    "\n",
    "# Assign genres to groups and accumulate counts\n",
    "for genre, count in genre_counts.items():\n",
    "    group = genre_groups.get(genre, 'Others')\n",
    "    group_counts[group] += count\n",
    "\n",
    "# Calculate the target count for each group\n",
    "target_count = sum(group_counts.values()) // len(group_counts)\n",
    "\n",
    "# Print the final group counts\n",
    "for group, count in group_counts.items():\n",
    "    max_count[group] = 0\n",
    "    new_ALL_GENRES.append(group)\n",
    "    print(f\"{group}: {count}\")\n",
    "\n",
    "# Create a new converted_data with updated genres\n",
    "updated_converted_data = {}\n",
    "clases_updated = []\n",
    "\n",
    "for key, genres_list in json_data.items():\n",
    "    # Assign genre labels based on genre_groups dictionary\n",
    "    labels = [genre_groups.get(genre, 'Others') for genre in genres_list]\n",
    "    # Convert genre labels to binary sequence\n",
    "    binary_sequence = [1 if label in labels else 0 for label in new_ALL_GENRES]\n",
    "    binary_sequence.append(labels[0])  # Append the first label as the genre label\n",
    "     # Check if the count for the group associated with the first label exceeds the target count\n",
    "    if group_counts[labels[0]] < target_count:\n",
    "        clases_updated.append(labels[0])\n",
    "        updated_converted_data[key] = binary_sequence\n",
    "    else:\n",
    "        if max_count[labels[0]] < target_count:\n",
    "            clases_updated.append(labels[0])\n",
    "            updated_converted_data[key] = binary_sequence\n",
    "            max_count[labels[0]] +=1\n",
    "\n"
   ]
  },
  {
   "cell_type": "code",
   "execution_count": 6,
   "id": "ebe78b23-c1f5-4374-a3c3-0d7d08f61fb6",
   "metadata": {},
   "outputs": [
    {
     "data": {
      "text/plain": [
       "['Films',\n",
       " 'Reggae',\n",
       " 'Pop',\n",
       " 'Electronic',\n",
       " 'Alternative',\n",
       " 'Hip-Hop',\n",
       " 'Rock',\n",
       " 'Others']"
      ]
     },
     "execution_count": 6,
     "metadata": {},
     "output_type": "execute_result"
    }
   ],
   "source": [
    "new_ALL_GENRES"
   ]
  },
  {
   "cell_type": "markdown",
   "id": "c4b708b8-3c99-4249-95d3-568f815f9e0a",
   "metadata": {},
   "source": [
    "## Final dataset with balanced labels"
   ]
  },
  {
   "cell_type": "code",
   "execution_count": 7,
   "id": "84c30695-03fd-47f3-a142-5ce40b538a08",
   "metadata": {},
   "outputs": [
    {
     "name": "stdout",
     "output_type": "stream",
     "text": [
      "Films: 5221\n",
      "Reggae: 1973\n",
      "Pop: 5221\n",
      "Electronic: 5221\n",
      "Alternative: 3151\n",
      "Hip-Hop: 4942\n",
      "Rock: 3177\n",
      "Others: 3212\n"
     ]
    }
   ],
   "source": [
    "\n",
    "# Count the occurrences of each genre\n",
    "genre_counts_updated = Counter(clases_updated)\n",
    "\n",
    "for genre, count in genre_counts_updated.items():\n",
    "    print(f\"{genre}: {count}\")"
   ]
  },
  {
   "cell_type": "code",
   "execution_count": 8,
   "id": "092ba0b9-658c-470c-a51b-7f35b98ec17d",
   "metadata": {},
   "outputs": [],
   "source": [
    "output_file_path = \"RO_reduced.content\"\n",
    "# Open the file in write mode and redirect the print output to the file\n",
    "with open(output_file_path, 'w') as file:\n",
    "    for key, binary_sequence in updated_converted_data.items():\n",
    "        # Format the output as requested\n",
    "        formatted_output = '\\t'.join([str(item) for item in [key] + binary_sequence])\n",
    "\n",
    "        # Write the formatted output to the file\n",
    "        file.write(formatted_output + '\\n')"
   ]
  },
  {
   "cell_type": "code",
   "execution_count": 9,
   "id": "bfff8a20-14ee-407b-a0b9-b2b15248114a",
   "metadata": {},
   "outputs": [],
   "source": [
    "ro_data = pd.read_csv('RO_edges.csv')\n",
    "# Specify the output file path\n",
    "output_file_path = 'RO_reduced.cites'\n",
    "\n",
    "# Write the DataFrame to a text file\n",
    "ro_data.to_csv(output_file_path, sep='\\t', index=False)"
   ]
  },
  {
   "cell_type": "code",
   "execution_count": null,
   "id": "132a5a41-a84c-4765-bd99-1a10bf65765e",
   "metadata": {},
   "outputs": [],
   "source": []
  }
 ],
 "metadata": {
  "kernelspec": {
   "display_name": "Python 3 (ipykernel)",
   "language": "python",
   "name": "python3"
  },
  "language_info": {
   "codemirror_mode": {
    "name": "ipython",
    "version": 3
   },
   "file_extension": ".py",
   "mimetype": "text/x-python",
   "name": "python",
   "nbconvert_exporter": "python",
   "pygments_lexer": "ipython3",
   "version": "3.10.12"
  }
 },
 "nbformat": 4,
 "nbformat_minor": 5
}
