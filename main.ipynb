{
 "cells": [
  {
   "cell_type": "code",
   "execution_count": 1,
   "id": "e2d6849e-b12a-4879-a8ff-8ab1866ec7fc",
   "metadata": {
    "lines_to_next_cell": 1
   },
   "outputs": [],
   "source": [
    "# import time\n",
    "import torch\n",
    "# import os\n",
    "import pandas as pd\n",
    "import numpy as np\n",
    "import models\n",
    "from config import opt\n",
    "import data\n",
    "from sklearn import metrics\n",
    "from tqdm.notebook import tqdm\n",
    "# import visdom\n",
    "from torch.utils.data import DataLoader\n",
    "import torch.nn.functional as F\n",
    "import matplotlib.pyplot as plt\n",
    "from sklearn.metrics import confusion_matrix"
   ]
  },
  {
   "cell_type": "code",
   "execution_count": 2,
   "id": "cd8449f0-a368-41e4-8495-36894fae368c",
   "metadata": {
    "lines_to_next_cell": 1
   },
   "outputs": [],
   "source": [
    "from sklearn.metrics import confusion_matrix\n",
    "\n",
    "def train_and_evaluate(model_name, model_class, save_model_path=None):\n",
    "    opt.model = model_name\n",
    "    opt._parse({})  # Reset the configuration for each model\n",
    "    adj, features, labels, idx_train, idx_val, idx_test, edges, classes_dict = data.load_data(opt)\n",
    "    train = data.Dataload(labels, idx_train)\n",
    "    val = data.Dataload(labels, idx_val)\n",
    "    test = data.Dataload(labels, idx_test)\n",
    "\n",
    "    if model_name == 'PyGCN':\n",
    "        model = getattr(models, opt.model)(features.shape[1], 128, max(labels) + 1).train()\n",
    "    elif model_name == 'PyGAT':\n",
    "        model = getattr(models, opt.model)(features.shape[1], 8, max(labels) + 1, dropout=0.6, alpha=0.2, nheads=8).train()\n",
    "    elif model_name == 'PyGraphsage':\n",
    "        model = getattr(models, opt.model)(features.shape[1], 8, max(labels) + 1)\n",
    "    else:\n",
    "        print(\"Please input the correct model name: PyGCN, PyGAT or PyGraphsage\")\n",
    "        return\n",
    "    if opt.load_model_path:\n",
    "        model.load(opt.load_model_path)\n",
    "\n",
    "    model = model.to(opt.device)\n",
    "    adj = adj.to(opt.device)\n",
    "    features = features.to(opt.device)\n",
    "\n",
    "    train_dataloader = DataLoader(train, opt.batch_size, shuffle=True, num_workers=opt.num_workers)\n",
    "    val_dataloader = DataLoader(val, opt.batch_size, shuffle=True, num_workers=opt.num_workers)\n",
    "    test_dataloader = DataLoader(test, opt.batch_size, shuffle=True, num_workers=opt.num_workers)\n",
    "\n",
    "    criterion = torch.nn.CrossEntropyLoss()  # Use CrossEntropyLoss\n",
    "    optimizer = torch.optim.AdamW(model.parameters(), lr=opt.lr, weight_decay=opt.weight_decay)\n",
    "    lr_scheduler = torch.optim.lr_scheduler.StepLR(optimizer, step_size=10, gamma=0.1)  # Example scheduler\n",
    "\n",
    "    train_losses = []\n",
    "    val_losses = []\n",
    "    val_accuracies = []\n",
    "    confusion_matrices = []\n",
    "\n",
    "    for name, param in model.named_parameters():\n",
    "        print(f\"Parameter name: {name}, Parameter shape: {param.shape}\")\n",
    "        \n",
    "    for epoch in range(opt.max_epoch):\n",
    "        train_loss = 0\n",
    "        model.train()\n",
    "\n",
    "        for trains, labels in tqdm(train_dataloader, leave=False):\n",
    "            labels = labels.to(opt.device)\n",
    "            trains = trains.to(opt.device)\n",
    "            optimizer.zero_grad()\n",
    "            outputs = model(features, adj)\n",
    "            loss = criterion(outputs[trains], labels)\n",
    "            loss.backward()\n",
    "            optimizer.step()\n",
    "            train_loss += loss.item()\n",
    "\n",
    "        train_losses.append(train_loss / len(train_dataloader))\n",
    "\n",
    "        lr_scheduler.step()  # Adjust learning rate\n",
    "\n",
    "        val_loss, val_accuracy, labels_all, predict_all, conf_matrix = evaluate(opt, model, val_dataloader, epoch, features, adj)\n",
    "        val_losses.append(val_loss)  # Store validation loss\n",
    "        val_accuracies.append(val_accuracy)\n",
    "        confusion_matrices.append(conf_matrix)\n",
    "\n",
    "    print(confusion_matrices[-1])  # Print the last confusion matrix\n",
    "\n",
    "    test_loss, test_accuracy, test_labels_all, test_predict_all, test_conf_matrix = evaluate(opt, model, test_dataloader, epoch, features, adj)\n",
    "    if save_model_path:\n",
    "        torch.save(model.state_dict(), save_model_path)\n",
    "\n",
    "    return train_losses, val_losses, val_accuracies, confusion_matrices, test_loss, test_accuracy, test_labels_all, test_predict_all, test_conf_matrix\n",
    "\n",
    "def evaluate(opt, model, val_dataloader, epoch, features, adj):\n",
    "    model.eval()\n",
    "    loss_total = 0\n",
    "    predict_all = []\n",
    "    labels_all = []\n",
    "    criterion = torch.nn.CrossEntropyLoss()\n",
    "\n",
    "    with torch.no_grad():\n",
    "        for evals, labels in tqdm(val_dataloader):\n",
    "            labels = labels.to(opt.device)\n",
    "            evals = evals.to(opt.device)\n",
    "            outputs = model(features, adj)\n",
    "            loss = criterion(outputs[evals], labels)\n",
    "            loss_total += loss.item()\n",
    "\n",
    "            labels = labels.data.cpu().numpy()\n",
    "            predictions = torch.max(outputs[evals].data, 1)[1].cpu().numpy()\n",
    "\n",
    "            labels_all.extend(labels)\n",
    "            predict_all.extend(predictions)\n",
    "\n",
    "    accuracy = metrics.accuracy_score(labels_all, predict_all)\n",
    "    print(f\"Epoch {epoch}: Validation Loss: {loss_total}, Accuracy: {accuracy}\")\n",
    "\n",
    "    conf_matrix = confusion_matrix(labels_all, predict_all)\n",
    "\n",
    "    return loss_total, accuracy, labels_all, predict_all, conf_matrix\n"
   ]
  },
  {
   "cell_type": "code",
   "execution_count": 3,
   "id": "f91ab0d7-5270-4215-b18d-87ae897d10eb",
   "metadata": {},
   "outputs": [
    {
     "name": "stdout",
     "output_type": "stream",
     "text": [
      "user config:\n",
      "model PyGCN\n",
      "use_gpu False\n",
      "device cpu\n",
      "load_model_path None\n",
      "network RO\n",
      "batch_size 8\n",
      "num_workers 3\n",
      "max_epoch 10\n",
      "lr 0.005\n",
      "lr_decay 0.9\n",
      "weight_decay 1e-05\n",
      "train_rate 0.8\n",
      "val_rate 0.1\n",
      "dropout 0.5\n",
      "Loading RO dataset...\n",
      "Parameter name: gc1.weight, Parameter shape: torch.Size([84, 128])\n",
      "Parameter name: gc1.bias, Parameter shape: torch.Size([128])\n",
      "Parameter name: gc2.weight, Parameter shape: torch.Size([128, 68])\n",
      "Parameter name: gc2.bias, Parameter shape: torch.Size([68])\n"
     ]
    },
    {
     "data": {
      "application/vnd.jupyter.widget-view+json": {
       "model_id": "",
       "version_major": 2,
       "version_minor": 0
      },
      "text/plain": [
       "  0%|          | 0/4178 [00:00<?, ?it/s]"
      ]
     },
     "metadata": {},
     "output_type": "display_data"
    },
    {
     "data": {
      "application/vnd.jupyter.widget-view+json": {
       "model_id": "7ca49db650be4f44aff2486e9adf1749",
       "version_major": 2,
       "version_minor": 0
      },
      "text/plain": [
       "  0%|          | 0/523 [00:00<?, ?it/s]"
      ]
     },
     "metadata": {},
     "output_type": "display_data"
    },
    {
     "name": "stdout",
     "output_type": "stream",
     "text": [
      "Epoch 0: Validation Loss: 974.8349353075027, Accuracy: 0.45774479291357434\n"
     ]
    },
    {
     "data": {
      "application/vnd.jupyter.widget-view+json": {
       "model_id": "",
       "version_major": 2,
       "version_minor": 0
      },
      "text/plain": [
       "  0%|          | 0/4178 [00:00<?, ?it/s]"
      ]
     },
     "metadata": {},
     "output_type": "display_data"
    },
    {
     "data": {
      "application/vnd.jupyter.widget-view+json": {
       "model_id": "d7440b9e6ad4440496de5792144653f6",
       "version_major": 2,
       "version_minor": 0
      },
      "text/plain": [
       "  0%|          | 0/523 [00:00<?, ?it/s]"
      ]
     },
     "metadata": {},
     "output_type": "display_data"
    },
    {
     "name": "stdout",
     "output_type": "stream",
     "text": [
      "Epoch 1: Validation Loss: 856.8830537199974, Accuracy: 0.5063442662197749\n"
     ]
    },
    {
     "data": {
      "application/vnd.jupyter.widget-view+json": {
       "model_id": "",
       "version_major": 2,
       "version_minor": 0
      },
      "text/plain": [
       "  0%|          | 0/4178 [00:00<?, ?it/s]"
      ]
     },
     "metadata": {},
     "output_type": "display_data"
    },
    {
     "data": {
      "application/vnd.jupyter.widget-view+json": {
       "model_id": "3d969d5012d141978fa8b91f749ad06f",
       "version_major": 2,
       "version_minor": 0
      },
      "text/plain": [
       "  0%|          | 0/523 [00:00<?, ?it/s]"
      ]
     },
     "metadata": {},
     "output_type": "display_data"
    },
    {
     "name": "stdout",
     "output_type": "stream",
     "text": [
      "Epoch 2: Validation Loss: 782.285887748003, Accuracy: 0.5348336126406512\n"
     ]
    },
    {
     "data": {
      "application/vnd.jupyter.widget-view+json": {
       "model_id": "",
       "version_major": 2,
       "version_minor": 0
      },
      "text/plain": [
       "  0%|          | 0/4178 [00:00<?, ?it/s]"
      ]
     },
     "metadata": {},
     "output_type": "display_data"
    },
    {
     "data": {
      "application/vnd.jupyter.widget-view+json": {
       "model_id": "62e0f0a5c46040a3aa20c6f775bb1fa6",
       "version_major": 2,
       "version_minor": 0
      },
      "text/plain": [
       "  0%|          | 0/523 [00:00<?, ?it/s]"
      ]
     },
     "metadata": {},
     "output_type": "display_data"
    },
    {
     "name": "stdout",
     "output_type": "stream",
     "text": [
      "Epoch 3: Validation Loss: 736.3905470073223, Accuracy: 0.5523102705290879\n"
     ]
    },
    {
     "data": {
      "application/vnd.jupyter.widget-view+json": {
       "model_id": "",
       "version_major": 2,
       "version_minor": 0
      },
      "text/plain": [
       "  0%|          | 0/4178 [00:00<?, ?it/s]"
      ]
     },
     "metadata": {},
     "output_type": "display_data"
    },
    {
     "data": {
      "application/vnd.jupyter.widget-view+json": {
       "model_id": "1d2007d6af0240a4864e4ecac79e54f7",
       "version_major": 2,
       "version_minor": 0
      },
      "text/plain": [
       "  0%|          | 0/523 [00:00<?, ?it/s]"
      ]
     },
     "metadata": {},
     "output_type": "display_data"
    },
    {
     "name": "stdout",
     "output_type": "stream",
     "text": [
      "Epoch 4: Validation Loss: 703.6056469976902, Accuracy: 0.5738568350490783\n"
     ]
    },
    {
     "data": {
      "application/vnd.jupyter.widget-view+json": {
       "model_id": "",
       "version_major": 2,
       "version_minor": 0
      },
      "text/plain": [
       "  0%|          | 0/4178 [00:00<?, ?it/s]"
      ]
     },
     "metadata": {},
     "output_type": "display_data"
    },
    {
     "data": {
      "application/vnd.jupyter.widget-view+json": {
       "model_id": "fe8ad2be41074dc2971d7e6dd86dd2b9",
       "version_major": 2,
       "version_minor": 0
      },
      "text/plain": [
       "  0%|          | 0/523 [00:00<?, ?it/s]"
      ]
     },
     "metadata": {},
     "output_type": "display_data"
    },
    {
     "name": "stdout",
     "output_type": "stream",
     "text": [
      "Epoch 5: Validation Loss: 677.4942403435707, Accuracy: 0.5748144601388556\n"
     ]
    },
    {
     "data": {
      "application/vnd.jupyter.widget-view+json": {
       "model_id": "",
       "version_major": 2,
       "version_minor": 0
      },
      "text/plain": [
       "  0%|          | 0/4178 [00:00<?, ?it/s]"
      ]
     },
     "metadata": {},
     "output_type": "display_data"
    },
    {
     "data": {
      "application/vnd.jupyter.widget-view+json": {
       "model_id": "4ff90ec629ff49559fa1aa9840368b3c",
       "version_major": 2,
       "version_minor": 0
      },
      "text/plain": [
       "  0%|          | 0/523 [00:00<?, ?it/s]"
      ]
     },
     "metadata": {},
     "output_type": "display_data"
    },
    {
     "name": "stdout",
     "output_type": "stream",
     "text": [
      "Epoch 6: Validation Loss: 664.9659887552261, Accuracy: 0.5755326789561886\n"
     ]
    },
    {
     "data": {
      "application/vnd.jupyter.widget-view+json": {
       "model_id": "",
       "version_major": 2,
       "version_minor": 0
      },
      "text/plain": [
       "  0%|          | 0/4178 [00:00<?, ?it/s]"
      ]
     },
     "metadata": {},
     "output_type": "display_data"
    },
    {
     "data": {
      "application/vnd.jupyter.widget-view+json": {
       "model_id": "d31ebce0673c491eabe0d0c51b6edce2",
       "version_major": 2,
       "version_minor": 0
      },
      "text/plain": [
       "  0%|          | 0/523 [00:00<?, ?it/s]"
      ]
     },
     "metadata": {},
     "output_type": "display_data"
    },
    {
     "name": "stdout",
     "output_type": "stream",
     "text": [
      "Epoch 7: Validation Loss: 641.3314552903175, Accuracy: 0.5812784294948528\n"
     ]
    },
    {
     "data": {
      "application/vnd.jupyter.widget-view+json": {
       "model_id": "",
       "version_major": 2,
       "version_minor": 0
      },
      "text/plain": [
       "  0%|          | 0/4178 [00:00<?, ?it/s]"
      ]
     },
     "metadata": {},
     "output_type": "display_data"
    },
    {
     "data": {
      "application/vnd.jupyter.widget-view+json": {
       "model_id": "8a17b4c988cc40f9a92c8b08e7707387",
       "version_major": 2,
       "version_minor": 0
      },
      "text/plain": [
       "  0%|          | 0/523 [00:00<?, ?it/s]"
      ]
     },
     "metadata": {},
     "output_type": "display_data"
    },
    {
     "name": "stdout",
     "output_type": "stream",
     "text": [
      "Epoch 8: Validation Loss: 634.4506278932095, Accuracy: 0.5879818051232942\n"
     ]
    },
    {
     "data": {
      "application/vnd.jupyter.widget-view+json": {
       "model_id": "",
       "version_major": 2,
       "version_minor": 0
      },
      "text/plain": [
       "  0%|          | 0/4178 [00:00<?, ?it/s]"
      ]
     },
     "metadata": {},
     "output_type": "display_data"
    },
    {
     "data": {
      "application/vnd.jupyter.widget-view+json": {
       "model_id": "fe2c6eeb3213431e9d62477bb6833a96",
       "version_major": 2,
       "version_minor": 0
      },
      "text/plain": [
       "  0%|          | 0/523 [00:00<?, ?it/s]"
      ]
     },
     "metadata": {},
     "output_type": "display_data"
    },
    {
     "name": "stdout",
     "output_type": "stream",
     "text": [
      "Epoch 9: Validation Loss: 623.3664423525333, Accuracy: 0.5889394302130716\n",
      "[[37  0  0 ...  0  3  0]\n",
      " [ 0  5  0 ...  0  0  0]\n",
      " [ 0  0  1 ...  0  0  0]\n",
      " ...\n",
      " [ 0  0  0 ...  0  0  0]\n",
      " [ 0  0  0 ...  0 12  0]\n",
      " [ 0  0  0 ...  0  0  1]]\n"
     ]
    },
    {
     "data": {
      "application/vnd.jupyter.widget-view+json": {
       "model_id": "01d4dee1a1394e1eb22d772b00e024f9",
       "version_major": 2,
       "version_minor": 0
      },
      "text/plain": [
       "  0%|          | 0/523 [00:00<?, ?it/s]"
      ]
     },
     "metadata": {},
     "output_type": "display_data"
    },
    {
     "name": "stdout",
     "output_type": "stream",
     "text": [
      "Epoch 9: Validation Loss: 622.6185025274754, Accuracy: 0.5889394302130716\n",
      "0.5889394302130716\n",
      "user config:\n",
      "model PyGraphsage\n",
      "use_gpu False\n",
      "device cpu\n",
      "load_model_path None\n",
      "network RO\n",
      "batch_size 8\n",
      "num_workers 3\n",
      "max_epoch 10\n",
      "lr 0.005\n",
      "lr_decay 0.9\n",
      "weight_decay 1e-05\n",
      "train_rate 0.8\n",
      "val_rate 0.1\n",
      "dropout 0.5\n",
      "Loading RO dataset...\n",
      "Parameter name: sage1.W, Parameter shape: torch.Size([168, 8])\n",
      "Parameter name: sage1.bias, Parameter shape: torch.Size([8])\n",
      "Parameter name: sage2.W, Parameter shape: torch.Size([16, 8])\n",
      "Parameter name: sage2.bias, Parameter shape: torch.Size([8])\n",
      "Parameter name: att.weight, Parameter shape: torch.Size([68, 8])\n",
      "Parameter name: att.bias, Parameter shape: torch.Size([68])\n"
     ]
    },
    {
     "data": {
      "application/vnd.jupyter.widget-view+json": {
       "model_id": "",
       "version_major": 2,
       "version_minor": 0
      },
      "text/plain": [
       "  0%|          | 0/4178 [00:00<?, ?it/s]"
      ]
     },
     "metadata": {},
     "output_type": "display_data"
    },
    {
     "name": "stderr",
     "output_type": "stream",
     "text": [
      "IOPub message rate exceeded.\n",
      "The Jupyter server will temporarily stop sending output\n",
      "to the client in order to avoid crashing it.\n",
      "To change this limit, set the config variable\n",
      "`--ServerApp.iopub_msg_rate_limit`.\n",
      "\n",
      "Current values:\n",
      "ServerApp.iopub_msg_rate_limit=1000.0 (msgs/sec)\n",
      "ServerApp.rate_limit_window=3.0 (secs)\n",
      "\n"
     ]
    },
    {
     "data": {
      "application/vnd.jupyter.widget-view+json": {
       "model_id": "6b82d52b8a8d450ca5e47a1fc6c74787",
       "version_major": 2,
       "version_minor": 0
      },
      "text/plain": [
       "  0%|          | 0/523 [00:00<?, ?it/s]"
      ]
     },
     "metadata": {},
     "output_type": "display_data"
    },
    {
     "name": "stdout",
     "output_type": "stream",
     "text": [
      "Epoch 0: Validation Loss: 553.54213229171, Accuracy: 0.7213310988747905\n"
     ]
    },
    {
     "data": {
      "application/vnd.jupyter.widget-view+json": {
       "model_id": "",
       "version_major": 2,
       "version_minor": 0
      },
      "text/plain": [
       "  0%|          | 0/4178 [00:00<?, ?it/s]"
      ]
     },
     "metadata": {},
     "output_type": "display_data"
    },
    {
     "data": {
      "application/vnd.jupyter.widget-view+json": {
       "model_id": "6ceae8a1dff44d1ea3c58a9b2e30c6a3",
       "version_major": 2,
       "version_minor": 0
      },
      "text/plain": [
       "  0%|          | 0/523 [00:00<?, ?it/s]"
      ]
     },
     "metadata": {},
     "output_type": "display_data"
    },
    {
     "name": "stdout",
     "output_type": "stream",
     "text": [
      "Epoch 1: Validation Loss: 464.176971398294, Accuracy: 0.7713670098156572\n"
     ]
    },
    {
     "data": {
      "application/vnd.jupyter.widget-view+json": {
       "model_id": "",
       "version_major": 2,
       "version_minor": 0
      },
      "text/plain": [
       "  0%|          | 0/4178 [00:00<?, ?it/s]"
      ]
     },
     "metadata": {},
     "output_type": "display_data"
    },
    {
     "data": {
      "application/vnd.jupyter.widget-view+json": {
       "model_id": "a4a789d56260400c98f079b6befa62a9",
       "version_major": 2,
       "version_minor": 0
      },
      "text/plain": [
       "  0%|          | 0/523 [00:00<?, ?it/s]"
      ]
     },
     "metadata": {},
     "output_type": "display_data"
    },
    {
     "name": "stdout",
     "output_type": "stream",
     "text": [
      "Epoch 2: Validation Loss: 438.17772836983204, Accuracy: 0.7840555422552071\n"
     ]
    },
    {
     "data": {
      "application/vnd.jupyter.widget-view+json": {
       "model_id": "",
       "version_major": 2,
       "version_minor": 0
      },
      "text/plain": [
       "  0%|          | 0/4178 [00:00<?, ?it/s]"
      ]
     },
     "metadata": {},
     "output_type": "display_data"
    },
    {
     "data": {
      "application/vnd.jupyter.widget-view+json": {
       "model_id": "0bf5a33e46764167b86fd09dc5636417",
       "version_major": 2,
       "version_minor": 0
      },
      "text/plain": [
       "  0%|          | 0/523 [00:00<?, ?it/s]"
      ]
     },
     "metadata": {},
     "output_type": "display_data"
    },
    {
     "name": "stdout",
     "output_type": "stream",
     "text": [
      "Epoch 3: Validation Loss: 417.05903080292046, Accuracy: 0.8029686377783098\n"
     ]
    },
    {
     "data": {
      "application/vnd.jupyter.widget-view+json": {
       "model_id": "",
       "version_major": 2,
       "version_minor": 0
      },
      "text/plain": [
       "  0%|          | 0/4178 [00:00<?, ?it/s]"
      ]
     },
     "metadata": {},
     "output_type": "display_data"
    },
    {
     "data": {
      "application/vnd.jupyter.widget-view+json": {
       "model_id": "b3e61872cad54264b4083e17a550cb4d",
       "version_major": 2,
       "version_minor": 0
      },
      "text/plain": [
       "  0%|          | 0/523 [00:00<?, ?it/s]"
      ]
     },
     "metadata": {},
     "output_type": "display_data"
    },
    {
     "name": "stdout",
     "output_type": "stream",
     "text": [
      "Epoch 4: Validation Loss: 404.1490837559104, Accuracy: 0.8084749820445296\n"
     ]
    },
    {
     "data": {
      "application/vnd.jupyter.widget-view+json": {
       "model_id": "",
       "version_major": 2,
       "version_minor": 0
      },
      "text/plain": [
       "  0%|          | 0/4178 [00:00<?, ?it/s]"
      ]
     },
     "metadata": {},
     "output_type": "display_data"
    },
    {
     "data": {
      "application/vnd.jupyter.widget-view+json": {
       "model_id": "aaa870484dff4e7e918c449c47faaa8d",
       "version_major": 2,
       "version_minor": 0
      },
      "text/plain": [
       "  0%|          | 0/523 [00:00<?, ?it/s]"
      ]
     },
     "metadata": {},
     "output_type": "display_data"
    },
    {
     "name": "stdout",
     "output_type": "stream",
     "text": [
      "Epoch 5: Validation Loss: 393.0212045907974, Accuracy: 0.8072779506823079\n"
     ]
    },
    {
     "data": {
      "application/vnd.jupyter.widget-view+json": {
       "model_id": "",
       "version_major": 2,
       "version_minor": 0
      },
      "text/plain": [
       "  0%|          | 0/4178 [00:00<?, ?it/s]"
      ]
     },
     "metadata": {},
     "output_type": "display_data"
    },
    {
     "data": {
      "application/vnd.jupyter.widget-view+json": {
       "model_id": "41f0817b02ad4eda87dbd86b76837d47",
       "version_major": 2,
       "version_minor": 0
      },
      "text/plain": [
       "  0%|          | 0/523 [00:00<?, ?it/s]"
      ]
     },
     "metadata": {},
     "output_type": "display_data"
    },
    {
     "name": "stdout",
     "output_type": "stream",
     "text": [
      "Epoch 6: Validation Loss: 393.0297397710383, Accuracy: 0.813023701220972\n"
     ]
    },
    {
     "data": {
      "application/vnd.jupyter.widget-view+json": {
       "model_id": "",
       "version_major": 2,
       "version_minor": 0
      },
      "text/plain": [
       "  0%|          | 0/4178 [00:00<?, ?it/s]"
      ]
     },
     "metadata": {},
     "output_type": "display_data"
    },
    {
     "data": {
      "application/vnd.jupyter.widget-view+json": {
       "model_id": "0644c517743d494688d950bde5097875",
       "version_major": 2,
       "version_minor": 0
      },
      "text/plain": [
       "  0%|          | 0/523 [00:00<?, ?it/s]"
      ]
     },
     "metadata": {},
     "output_type": "display_data"
    },
    {
     "name": "stdout",
     "output_type": "stream",
     "text": [
      "Epoch 7: Validation Loss: 379.78263356536627, Accuracy: 0.8048838879578645\n"
     ]
    },
    {
     "data": {
      "application/vnd.jupyter.widget-view+json": {
       "model_id": "",
       "version_major": 2,
       "version_minor": 0
      },
      "text/plain": [
       "  0%|          | 0/4178 [00:00<?, ?it/s]"
      ]
     },
     "metadata": {},
     "output_type": "display_data"
    },
    {
     "data": {
      "application/vnd.jupyter.widget-view+json": {
       "model_id": "d3e34b67d4304745a15a066dd75745d4",
       "version_major": 2,
       "version_minor": 0
      },
      "text/plain": [
       "  0%|          | 0/523 [00:00<?, ?it/s]"
      ]
     },
     "metadata": {},
     "output_type": "display_data"
    },
    {
     "name": "stdout",
     "output_type": "stream",
     "text": [
      "Epoch 8: Validation Loss: 382.735201000236, Accuracy: 0.8082355757720853\n"
     ]
    },
    {
     "data": {
      "application/vnd.jupyter.widget-view+json": {
       "model_id": "",
       "version_major": 2,
       "version_minor": 0
      },
      "text/plain": [
       "  0%|          | 0/4178 [00:00<?, ?it/s]"
      ]
     },
     "metadata": {},
     "output_type": "display_data"
    },
    {
     "data": {
      "application/vnd.jupyter.widget-view+json": {
       "model_id": "643718be8c8c4e5981e1add667e6767d",
       "version_major": 2,
       "version_minor": 0
      },
      "text/plain": [
       "  0%|          | 0/523 [00:00<?, ?it/s]"
      ]
     },
     "metadata": {},
     "output_type": "display_data"
    },
    {
     "name": "stdout",
     "output_type": "stream",
     "text": [
      "Epoch 9: Validation Loss: 366.3728342745453, Accuracy: 0.8202058893943022\n",
      "[[63  0  0 ...  0  0  0]\n",
      " [ 0  4  0 ...  0  0  0]\n",
      " [ 0  0  0 ...  0  0  0]\n",
      " ...\n",
      " [ 0  0  0 ...  0  0  0]\n",
      " [ 0  0  0 ...  0 10  0]\n",
      " [ 0  0  0 ...  0  0  0]]\n"
     ]
    },
    {
     "data": {
      "application/vnd.jupyter.widget-view+json": {
       "model_id": "3ebc8a996f3e4c979ed54bc67e1ecd55",
       "version_major": 2,
       "version_minor": 0
      },
      "text/plain": [
       "  0%|          | 0/523 [00:00<?, ?it/s]"
      ]
     },
     "metadata": {},
     "output_type": "display_data"
    },
    {
     "name": "stdout",
     "output_type": "stream",
     "text": [
      "Epoch 9: Validation Loss: 366.5802157733124, Accuracy: 0.8202058893943022\n",
      "0.8202058893943022\n"
     ]
    },
    {
     "data": {
      "image/png": "[encoded data removed]",
      "text/plain": [
       "<Figure size 1000x600 with 1 Axes>"
      ]
     },
     "metadata": {},
     "output_type": "display_data"
    },
    {
     "data": {
      "image/png": "[encoded data removed]",
      "text/plain": [
       "<Figure size 1000x600 with 1 Axes>"
      ]
     },
     "metadata": {},
     "output_type": "display_data"
    },
    {
     "data": {
      "image/png": "[encoded data removed]",
      "text/plain": [
       "<Figure size 1000x600 with 1 Axes>"
      ]
     },
     "metadata": {},
     "output_type": "display_data"
    },
    {
     "data": {
      "image/png": "[encoded data removed]",
      "text/plain": [
       "<Figure size 1000x600 with 1 Axes>"
      ]
     },
     "metadata": {},
     "output_type": "display_data"
    }
   ],
   "source": [
    "if __name__ == '__main__':\n",
    "    opt.network = 'RO'  # SELECT HERE THE DATASET YOU WANT\n",
    "    opt.train_rate = 0.8\n",
    "    opt.val_rate = 0.1\n",
    "    opt.max_epoch = 10\n",
    "    model_names = ['PyGCN', 'PyGraphsage']\n",
    "    model_classes = [models.PyGCN, models.Graphsage]\n",
    "\n",
    "    # add the GAT\n",
    "    # model_names = ['PyGraphsage']\n",
    "    # model_classes = [models.PyGraphsage]\n",
    "\n",
    "    train_loss_data = {}\n",
    "    val_loss_data = {}  # Add this line to store validation losses\n",
    "    val_accuracy_data = {}\n",
    "\n",
    "    for model_name, model_class in zip(model_names, model_classes):\n",
    "        save_path = f\"{model_name}_model.pth\"  # Specify the path where you want to save the model\n",
    "        train_losses, val_losses, val_accuracies, conf_matrix,  test_loss, test_accuracy, test_labels_all, test_predict_all, test_conf_matrix = train_and_evaluate(model_name, model_class, save_model_path=save_path)\n",
    "        train_loss_data[model_name] = train_losses\n",
    "        val_loss_data[model_name] = val_losses  # Store validation losses\n",
    "        val_accuracy_data[model_name] = val_accuracies\n",
    "        print(test_accuracy)\n",
    "\n",
    "        \n",
    "     # Create line plots for training and validation losses\n",
    "    plt.figure(figsize=(10, 6))\n",
    "    \n",
    "    # Plot training losses\n",
    "    for model_name, train_losses in train_loss_data.items():\n",
    "        plt.plot(train_losses, label=f'Training - {model_name}')\n",
    "    \n",
    "    # Plot validation losses\n",
    "    for model_name, val_losses in val_loss_data.items():\n",
    "        plt.plot(val_losses, label=f'Validation - {model_name}', linestyle='dashed')\n",
    "    \n",
    "    plt.xlabel(\"Epochs\")\n",
    "    plt.ylabel(\"Loss\")\n",
    "    plt.title(\"Training and Validation Loss Comparison\")\n",
    "    plt.legend()\n",
    "    plt.savefig(\"combined_loss_plot.png\")\n",
    "    plt.show()\n",
    "\n",
    "    \n",
    "    # Create line plots for validation accuracies\n",
    "    plt.figure(figsize=(10, 6))\n",
    "    for model_name, val_accuracies in val_accuracy_data.items():\n",
    "        plt.plot(val_accuracies, label=model_name)\n",
    "    plt.xlabel(\"Epochs\")\n",
    "    plt.ylabel(\"Validation Accuracy\")\n",
    "    plt.title(\"Validation Accuracy Comparison\")\n",
    "    plt.legend()\n",
    "    plt.savefig(\"plot_val_acc.png\")\n",
    "    plt.show()\n",
    "\n",
    "    # Create line plots for training losses\n",
    "    plt.figure(figsize=(10, 6))\n",
    "    for model_name, train_losses in train_loss_data.items():\n",
    "        plt.plot(train_losses, label=model_name)\n",
    "    plt.xlabel(\"Epochs\")\n",
    "    plt.ylabel(\"Training Loss\")\n",
    "    plt.title(\"Training Loss Comparison\")\n",
    "    plt.legend()\n",
    "    plt.savefig(\"plot.png\")5\n",
    "    \n",
    "    plt.show()\n",
    "\n",
    "    # Create line plots for validation losses\n",
    "    plt.figure(figsize=(10, 6))\n",
    "    for model_name, val_losses in val_loss_data.items():\n",
    "        plt.plot(val_losses, label=model_name)\n",
    "    plt.xlabel(\"Epochs\")\n",
    "    plt.ylabel(\"Validation Loss\")\n",
    "    plt.title(\"Validation Loss Comparison\")\n",
    "    plt.legend()\n",
    "    plt.savefig(\"plot_val_loss.png\")\n",
    "    plt.show()\n",
    "\n"
   ]
  },
  {
   "cell_type": "code",
   "execution_count": 4,
   "id": "1cb7d1f4-0805-4f7c-a52c-28e4c290055a",
   "metadata": {
    "lines_to_next_cell": 1
   },
   "outputs": [
    {
     "name": "stdout",
     "output_type": "stream",
     "text": [
      "Loading RO dataset...\n",
      "Split 33418 4177 4177\n"
     ]
    }
   ],
   "source": [
    "### Node degree\n",
    "adj, features, labels, idx_train, idx_val, idx_test, edges,classes_dict = data.load_data(opt)\n",
    "node_degrees_dict = {}\n",
    "print(\"Split\", len(idx_train), len(idx_val), len(idx_test))\n",
    "# Count the out-degrees for each node\n",
    "for edge in edges:\n",
    "    for node in edge:\n",
    "        if node in node_degrees_dict:\n",
    "            node_degrees_dict[node] += 1\n",
    "        else:\n",
    "            node_degrees_dict[node] = 1\n",
    "\n",
    "# Print or use the dictionary\n",
    "# print(f\"\"\"Node Degrees {opt.network}:\"\"\", node_degrees_dict)"
   ]
  },
  {
   "cell_type": "code",
   "execution_count": 5,
   "id": "058888e0-4415-4d69-b52b-edc9f59e9474",
   "metadata": {},
   "outputs": [
    {
     "data": {
      "text/plain": [
       "{'R&B': 0,\n",
       " 'Country': 1,\n",
       " 'Alternative_Country': 2,\n",
       " 'Chill_Out/Trip-Hop/Lounge': 3,\n",
       " 'Film_Scores': 4,\n",
       " 'Kids': 5,\n",
       " 'Opera': 6,\n",
       " 'Dance': 7,\n",
       " 'Soundtracks': 8,\n",
       " 'Disco': 9,\n",
       " 'Kids_&_Family': 10,\n",
       " 'Rap/Hip_Hop': 11,\n",
       " 'Electro': 12,\n",
       " 'Rock': 13,\n",
       " 'Modern': 14,\n",
       " 'Asian_Music': 15,\n",
       " 'Electro_Hip_Hop': 16,\n",
       " 'Hard_Rock': 17,\n",
       " 'Bluegrass': 18,\n",
       " 'Bolero': 19,\n",
       " 'Trance': 20,\n",
       " 'Rock_&_Roll/Rockabilly': 21,\n",
       " 'Vocal_jazz': 22,\n",
       " 'Alternative': 23,\n",
       " 'Folk': 24,\n",
       " 'Brazilian_Music': 25,\n",
       " 'Musicals': 26,\n",
       " 'East_Coast': 27,\n",
       " 'International_Pop': 28,\n",
       " 'Comedy': 29,\n",
       " 'Indian_Music': 30,\n",
       " 'Grime': 31,\n",
       " 'Baroque': 32,\n",
       " 'Classical_Period': 33,\n",
       " 'Indie_Rock/Rock_pop': 34,\n",
       " 'Country_Blues': 35,\n",
       " 'Indie_Rock': 36,\n",
       " 'Metal': 37,\n",
       " 'Films/Games': 38,\n",
       " 'Soul_&_Funk': 39,\n",
       " 'Latin_Music': 40,\n",
       " 'African_Music': 41,\n",
       " 'Chicago_Blues': 42,\n",
       " 'Dirty_South': 43,\n",
       " 'Nursery_Rhymes': 44,\n",
       " 'Singer_&_Songwriter': 45,\n",
       " 'Contemporary_Soul': 46,\n",
       " 'Pop': 47,\n",
       " 'Sports': 48,\n",
       " 'Jazz_Hip_Hop': 49,\n",
       " 'Spirituality_&_Religion': 50,\n",
       " 'Dubstep': 51,\n",
       " 'Urban_Cowboy': 52,\n",
       " 'Reggae': 53,\n",
       " 'Blues': 54,\n",
       " 'Electric_Blues': 55,\n",
       " 'Instrumental_jazz': 56,\n",
       " 'Dancehall/Ragga': 57,\n",
       " 'Contemporary_R&B': 58,\n",
       " 'Jazz': 59,\n",
       " 'Indie_Pop/Folk': 60,\n",
       " 'TV_Soundtracks': 61,\n",
       " 'Tropical': 62,\n",
       " 'Techno/House': 63,\n",
       " 'Dancefloor': 64,\n",
       " 'Oldschool_R&B': 65,\n",
       " 'Classical': 66,\n",
       " 'Indie_Pop': 67}"
      ]
     },
     "execution_count": 5,
     "metadata": {},
     "output_type": "execute_result"
    }
   ],
   "source": [
    "classes_dict"
   ]
  },
  {
   "cell_type": "code",
   "execution_count": 6,
   "id": "32a48b99-f29f-45e9-8099-b9de7aafcb5a",
   "metadata": {},
   "outputs": [
    {
     "data": {
      "text/plain": [
       "array([[63,  0,  0, ...,  0,  0,  0],\n",
       "       [ 0,  4,  0, ...,  0,  0,  0],\n",
       "       [ 0,  0,  0, ...,  0,  0,  0],\n",
       "       ...,\n",
       "       [ 0,  0,  0, ...,  0,  0,  0],\n",
       "       [ 0,  0,  0, ...,  0, 10,  0],\n",
       "       [ 0,  0,  0, ...,  0,  0,  0]])"
      ]
     },
     "execution_count": 6,
     "metadata": {},
     "output_type": "execute_result"
    }
   ],
   "source": [
    "test_conf_matrix"
   ]
  },
  {
   "cell_type": "code",
   "execution_count": 7,
   "id": "a32c6c56-23a4-416b-ac78-8305caa57b39",
   "metadata": {},
   "outputs": [
    {
     "data": {
      "text/plain": [
       "0.8202058893943022"
      ]
     },
     "execution_count": 7,
     "metadata": {},
     "output_type": "execute_result"
    }
   ],
   "source": [
    "test_accuracy"
   ]
  },
  {
   "cell_type": "code",
   "execution_count": 8,
   "id": "14c77378-daf7-46a2-bfdb-8aa024b1c661",
   "metadata": {},
   "outputs": [
    {
     "data": {
      "text/plain": [
       "{'PyGCN': [2.213211657671109,\n",
       "  1.8356555595587405,\n",
       "  1.6736456329290978,\n",
       "  1.5714343236487354,\n",
       "  1.5027856005470739,\n",
       "  1.4472844780932321,\n",
       "  1.4102078731434375,\n",
       "  1.3843262333399717,\n",
       "  1.3621152901175833,\n",
       "  1.3447549409875463],\n",
       " 'PyGraphsage': [1.7245807635222057,\n",
       "  1.3868603104963548,\n",
       "  1.3216474811466703,\n",
       "  1.3040696529305085,\n",
       "  1.2839564536972343,\n",
       "  1.2654900946803729,\n",
       "  1.2630986478081612,\n",
       "  1.253623884107049,\n",
       "  1.2424121854034136,\n",
       "  1.237863097612266]}"
      ]
     },
     "execution_count": 8,
     "metadata": {},
     "output_type": "execute_result"
    }
   ],
   "source": [
    "train_loss_data"
   ]
  },
  {
   "cell_type": "code",
   "execution_count": 9,
   "id": "f1a196ef-b19c-4b2f-9885-390699ad0efb",
   "metadata": {},
   "outputs": [
    {
     "data": {
      "text/plain": [
       "{'PyGCN': [0.45774479291357434,\n",
       "  0.5063442662197749,\n",
       "  0.5348336126406512,\n",
       "  0.5523102705290879,\n",
       "  0.5738568350490783,\n",
       "  0.5748144601388556,\n",
       "  0.5755326789561886,\n",
       "  0.5812784294948528,\n",
       "  0.5879818051232942,\n",
       "  0.5889394302130716],\n",
       " 'PyGraphsage': [0.7213310988747905,\n",
       "  0.7713670098156572,\n",
       "  0.7840555422552071,\n",
       "  0.8029686377783098,\n",
       "  0.8084749820445296,\n",
       "  0.8072779506823079,\n",
       "  0.813023701220972,\n",
       "  0.8048838879578645,\n",
       "  0.8082355757720853,\n",
       "  0.8202058893943022]}"
      ]
     },
     "execution_count": 9,
     "metadata": {},
     "output_type": "execute_result"
    }
   ],
   "source": [
    "val_accuracy_data"
   ]
  },
  {
   "cell_type": "code",
   "execution_count": 12,
   "id": "4ef924f4-d1c6-466c-aa7e-df6790400420",
   "metadata": {},
   "outputs": [],
   "source": [
    "import seaborn as sns\n",
    "import matplotlib.pyplot as plt\n",
    "import numpy as np\n"
   ]
  },
  {
   "cell_type": "code",
   "execution_count": 26,
   "id": "4bc4380f-6c9e-4138-8b1d-054158f29eaa",
   "metadata": {},
   "outputs": [
    {
     "name": "stdout",
     "output_type": "stream",
     "text": [
      "49\n",
      "68\n",
      "[ 2.75317213  0.21546565  0.02394063  1.29279387  0.76610007  0.43093129\n",
      " 21.40292076  0.19152502  0.19152502 10.94086665  1.43643763  1.14915011\n",
      "  0.04788125  0.04788125  0.31122815  0.93368446  0.02394063  0.02394063\n",
      "  0.43093129  3.66291597  0.33516878  0.04788125  0.02394063  5.55422552\n",
      "  0.5266938   0.02394063  0.02394063  0.14364376  5.91333493  0.76610007\n",
      "  9.62413215  0.04788125  0.86186258  1.24491262  0.2633469  14.05314819\n",
      "  0.23940627  0.07182188  4.93176921  0.28728753  0.07182188  0.14364376\n",
      "  0.47881254  0.74215944  1.98707206  3.85444099  0.02394063  1.02944697\n",
      "  0.40699066]\n",
      "['R&B', 'Country', 'Alternative_Country', 'Chill_Out/Trip-Hop/Lounge', 'Film_Scores', 'Kids', 'Opera', 'Dance', 'Soundtracks', 'Disco', 'Kids_&_Family', 'Rap/Hip_Hop', 'Electro', 'Rock', 'Modern', 'Asian_Music', 'Electro_Hip_Hop', 'Hard_Rock', 'Bluegrass', 'Bolero', 'Trance', 'Rock_&_Roll/Rockabilly', 'Vocal_jazz', 'Alternative', 'Folk', 'Brazilian_Music', 'Musicals', 'East_Coast', 'International_Pop', 'Comedy', 'Indian_Music', 'Grime', 'Baroque', 'Classical_Period', 'Indie_Rock/Rock_pop', 'Country_Blues', 'Indie_Rock', 'Metal', 'Films/Games', 'Soul_&_Funk', 'Latin_Music', 'African_Music', 'Chicago_Blues', 'Dirty_South', 'Nursery_Rhymes', 'Singer_&_Songwriter', 'Contemporary_Soul', 'Pop', 'Sports', 'Jazz_Hip_Hop', 'Spirituality_&_Religion', 'Dubstep', 'Urban_Cowboy', 'Reggae', 'Blues', 'Electric_Blues', 'Instrumental_jazz', 'Dancehall/Ragga', 'Contemporary_R&B', 'Jazz', 'Indie_Pop/Folk', 'TV_Soundtracks', 'Tropical', 'Techno/House', 'Dancefloor', 'Oldschool_R&B', 'Classical', 'Indie_Pop']\n"
     ]
    }
   ],
   "source": [
    "# Sum of rows\n",
    "\n",
    "class_labels = list(classes_dict.keys())\n",
    "row_sums = np.sum(test_conf_matrix, axis=1)\n",
    "\n",
    "# Sum of columns\n",
    "column_sums = np.sum(test_conf_matrix, axis=0)\n",
    "# Sum total\n",
    "matrix_sum = np.sum(test_conf_matrix)\n",
    "\n",
    "\n",
    "# print(\"Sum of rows:\", row_sums/matrix_sum*100)\n",
    "# print(\"Sum of columns:\", column_sums/matrix_sum*100)\n",
    "\n",
    "# Convert confusion matrix to percentages\n",
    "cora_gcn_matrix_percentage = test_conf_matrix.astype('float') / test_conf_matrix.sum(axis=1)[:, np.newaxis] * 100\n",
    "\n",
    "\n",
    "total_sum = np.sum(test_conf_matrix)\n",
    "\n",
    "print(len(test_conf_matrix))\n",
    "print(len(class_labels))\n",
    "print(row_proportions)\n",
    "print(class_labels)\n",
    "\n",
    "# # Proportions\n",
    "# row_proportions = row_sums / total_sum * 100\n",
    "# column_proportions = column_sums / total_sum * 100\n",
    "\n",
    "# # Pie chart for row proportions with actual values\n",
    "# plt.figure(figsize=(10, 5))\n",
    "# plt.subplot(1, 2, 1)\n",
    "# plt.pie(row_proportions, labels=class_labels, autopct='%1.1f%%')\n",
    "# plt.title('Original values')\n",
    "\n",
    "# # Pie chart for column proportions with predicted values\n",
    "# plt.subplot(1, 2, 2)\n",
    "# plt.pie(column_proportions, labels=class_labels, autopct='%1.1f%%')\n",
    "# plt.title('Predicted values')\n",
    "\n",
    "# plt.tight_layout()\n",
    "# plt.show()\n"
   ]
  },
  {
   "cell_type": "code",
   "execution_count": 23,
   "id": "36c16170-3a2e-4172-b444-367c56ce7101",
   "metadata": {},
   "outputs": [
    {
     "data": {
      "text/plain": [
       "68"
      ]
     },
     "execution_count": 23,
     "metadata": {},
     "output_type": "execute_result"
    }
   ],
   "source": [
    "len(list(classes_dict.keys()))"
   ]
  }
 ],
 "metadata": {
  "jupytext": {
   "cell_metadata_filter": "-all",
   "main_language": "python",
   "notebook_metadata_filter": "-all"
  },
  "kernelspec": {
   "display_name": "Python 3 (ipykernel)",
   "language": "python",
   "name": "python3"
  },
  "language_info": {
   "codemirror_mode": {
    "name": "ipython",
    "version": 3
   },
   "file_extension": ".py",
   "mimetype": "text/x-python",
   "name": "python",
   "nbconvert_exporter": "python",
   "pygments_lexer": "ipython3",
   "version": "3.10.12"
  }
 },
 "nbformat": 4,
 "nbformat_minor": 5
}
