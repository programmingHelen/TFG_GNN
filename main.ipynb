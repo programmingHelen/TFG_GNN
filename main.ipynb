{
 "cells": [
  {
   "cell_type": "code",
   "execution_count": 1,
   "id": "e2d6849e-b12a-4879-a8ff-8ab1866ec7fc",
   "metadata": {
    "lines_to_next_cell": 1
   },
   "outputs": [],
   "source": [
    "# import time\n",
    "import torch\n",
    "# import os\n",
    "import pandas as pd\n",
    "import numpy as np\n",
    "import models\n",
    "from config import opt\n",
    "import data\n",
    "from sklearn import metrics\n",
    "from tqdm.notebook import tqdm\n",
    "# import visdom\n",
    "from torch.utils.data import DataLoader\n",
    "import torch.nn.functional as F\n",
    "import matplotlib.pyplot as plt\n",
    "from sklearn.metrics import confusion_matrix"
   ]
  },
  {
   "cell_type": "code",
   "execution_count": 2,
   "id": "cd8449f0-a368-41e4-8495-36894fae368c",
   "metadata": {
    "lines_to_next_cell": 1
   },
   "outputs": [],
   "source": [
    "from sklearn.metrics import confusion_matrix\n",
    "\n",
    "def train_and_evaluate(model_name, model_class, save_model_path=None):\n",
    "    opt.model = model_name\n",
    "    opt._parse({})  # Reset the configuration for each model\n",
    "    adj, features, labels, idx_train, idx_val, idx_test, edges, classes_dict = data.load_data(opt)\n",
    "    train = data.Dataload(labels, idx_train)\n",
    "    val = data.Dataload(labels, idx_val)\n",
    "    test = data.Dataload(labels, idx_test)\n",
    "\n",
    "    if model_name == 'PyGCN':\n",
    "        model = getattr(models, opt.model)(features.shape[1], 128, max(labels) + 1).train()\n",
    "    elif model_name == 'PyGAT':\n",
    "        model = getattr(models, opt.model)(features.shape[1], 8, max(labels) + 1, dropout=0.6, alpha=0.2, nheads=8).train()\n",
    "    elif model_name == 'PyGraphsage':\n",
    "        model = getattr(models, opt.model)(features.shape[1], 8, max(labels) + 1)\n",
    "    else:\n",
    "        print(\"Please input the correct model name: PyGCN, PyGAT or PyGraphsage\")\n",
    "        return\n",
    "    if opt.load_model_path:\n",
    "        model.load(opt.load_model_path)\n",
    "\n",
    "    model = model.to(opt.device)\n",
    "    adj = adj.to(opt.device)\n",
    "    features = features.to(opt.device)\n",
    "\n",
    "    train_dataloader = DataLoader(train, opt.batch_size, shuffle=True, num_workers=opt.num_workers)\n",
    "    val_dataloader = DataLoader(val, opt.batch_size, shuffle=True, num_workers=opt.num_workers)\n",
    "    test_dataloader = DataLoader(test, opt.batch_size, shuffle=True, num_workers=opt.num_workers)\n",
    "\n",
    "    criterion = torch.nn.CrossEntropyLoss()  # Use CrossEntropyLoss\n",
    "    optimizer = torch.optim.AdamW(model.parameters(), lr=opt.lr, weight_decay=opt.weight_decay)\n",
    "    lr_scheduler = torch.optim.lr_scheduler.StepLR(optimizer, step_size=10, gamma=0.1)  # Example scheduler\n",
    "\n",
    "    train_losses = []\n",
    "    val_losses = []\n",
    "    val_accuracies = []\n",
    "    confusion_matrices = []\n",
    "\n",
    "    for name, param in model.named_parameters():\n",
    "        print(f\"Parameter name: {name}, Parameter shape: {param.shape}\")\n",
    "        \n",
    "    for epoch in range(opt.max_epoch):\n",
    "        train_loss = 0\n",
    "        model.train()\n",
    "\n",
    "        for trains, labels in tqdm(train_dataloader, leave=False):\n",
    "            labels = labels.to(opt.device)\n",
    "            trains = trains.to(opt.device)\n",
    "            optimizer.zero_grad()\n",
    "            outputs = model(features, adj)\n",
    "            loss = criterion(outputs[trains], labels)\n",
    "            loss.backward()\n",
    "            optimizer.step()\n",
    "            train_loss += loss.item()\n",
    "\n",
    "        train_losses.append(train_loss / len(train_dataloader))\n",
    "\n",
    "        lr_scheduler.step()  # Adjust learning rate\n",
    "\n",
    "        val_loss, val_accuracy, labels_all, predict_all, conf_matrix = evaluate(opt, model, val_dataloader, epoch, features, adj)\n",
    "        val_losses.append(val_loss)  # Store validation loss\n",
    "        val_accuracies.append(val_accuracy)\n",
    "        confusion_matrices.append(conf_matrix)\n",
    "\n",
    "    print(confusion_matrices[-1])  # Print the last confusion matrix\n",
    "\n",
    "    test_loss, test_accuracy, test_labels_all, test_predict_all, test_conf_matrix = evaluate(opt, model, test_dataloader, epoch, features, adj)\n",
    "    if save_model_path:\n",
    "        torch.save(model.state_dict(), save_model_path)\n",
    "\n",
    "    return train_losses, val_losses, val_accuracies, confusion_matrices, test_loss, test_accuracy, test_labels_all, test_predict_all, test_conf_matrix\n",
    "\n",
    "def evaluate(opt, model, val_dataloader, epoch, features, adj):\n",
    "    model.eval()\n",
    "    loss_total = 0\n",
    "    predict_all = []\n",
    "    labels_all = []\n",
    "    criterion = torch.nn.CrossEntropyLoss()\n",
    "\n",
    "    with torch.no_grad():\n",
    "        for evals, labels in tqdm(val_dataloader):\n",
    "            labels = labels.to(opt.device)\n",
    "            evals = evals.to(opt.device)\n",
    "            outputs = model(features, adj)\n",
    "            loss = criterion(outputs[evals], labels)\n",
    "            loss_total += loss.item()\n",
    "\n",
    "            labels = labels.data.cpu().numpy()\n",
    "            predictions = torch.max(outputs[evals].data, 1)[1].cpu().numpy()\n",
    "\n",
    "            labels_all.extend(labels)\n",
    "            predict_all.extend(predictions)\n",
    "\n",
    "    accuracy = metrics.accuracy_score(labels_all, predict_all)\n",
    "    print(f\"Epoch {epoch}: Validation Loss: {loss_total}, Accuracy: {accuracy}\")\n",
    "\n",
    "    conf_matrix = confusion_matrix(labels_all, predict_all)\n",
    "\n",
    "    return loss_total, accuracy, labels_all, predict_all, conf_matrix\n"
   ]
  },
  {
   "cell_type": "code",
   "execution_count": 4,
   "id": "f91ab0d7-5270-4215-b18d-87ae897d10eb",
   "metadata": {},
   "outputs": [
    {
     "name": "stdout",
     "output_type": "stream",
     "text": [
      "user config:\n",
      "model PyGCN\n",
      "use_gpu False\n",
      "device cpu\n",
      "load_model_path None\n",
      "network cora\n",
      "batch_size 8\n",
      "num_workers 3\n",
      "max_epoch 10\n",
      "lr 0.005\n",
      "lr_decay 0.9\n",
      "weight_decay 1e-05\n",
      "train_rate 0.8\n",
      "val_rate 0.1\n",
      "dropout 0.5\n",
      "Loading cora dataset...\n",
      "Parameter name: gc1.weight, Parameter shape: torch.Size([1433, 128])\n",
      "Parameter name: gc1.bias, Parameter shape: torch.Size([128])\n",
      "Parameter name: gc2.weight, Parameter shape: torch.Size([128, 7])\n",
      "Parameter name: gc2.bias, Parameter shape: torch.Size([7])\n"
     ]
    },
    {
     "data": {
      "application/vnd.jupyter.widget-view+json": {
       "model_id": "",
       "version_major": 2,
       "version_minor": 0
      },
      "text/plain": [
       "  0%|          | 0/271 [00:00<?, ?it/s]"
      ]
     },
     "metadata": {},
     "output_type": "display_data"
    },
    {
     "data": {
      "application/vnd.jupyter.widget-view+json": {
       "model_id": "882ee4cc762e4a02a975b0a97ab8db43",
       "version_major": 2,
       "version_minor": 0
      },
      "text/plain": [
       "  0%|          | 0/34 [00:00<?, ?it/s]"
      ]
     },
     "metadata": {},
     "output_type": "display_data"
    },
    {
     "name": "stdout",
     "output_type": "stream",
     "text": [
      "Epoch 0: Validation Loss: 18.814952462911606, Accuracy: 0.8518518518518519\n"
     ]
    },
    {
     "data": {
      "application/vnd.jupyter.widget-view+json": {
       "model_id": "",
       "version_major": 2,
       "version_minor": 0
      },
      "text/plain": [
       "  0%|          | 0/271 [00:00<?, ?it/s]"
      ]
     },
     "metadata": {},
     "output_type": "display_data"
    },
    {
     "data": {
      "application/vnd.jupyter.widget-view+json": {
       "model_id": "bef64828e4234dd3aee54a1336c2b228",
       "version_major": 2,
       "version_minor": 0
      },
      "text/plain": [
       "  0%|          | 0/34 [00:00<?, ?it/s]"
      ]
     },
     "metadata": {},
     "output_type": "display_data"
    },
    {
     "name": "stdout",
     "output_type": "stream",
     "text": [
      "Epoch 1: Validation Loss: 12.701375126838684, Accuracy: 0.8851851851851852\n"
     ]
    },
    {
     "data": {
      "application/vnd.jupyter.widget-view+json": {
       "model_id": "",
       "version_major": 2,
       "version_minor": 0
      },
      "text/plain": [
       "  0%|          | 0/271 [00:00<?, ?it/s]"
      ]
     },
     "metadata": {},
     "output_type": "display_data"
    },
    {
     "data": {
      "application/vnd.jupyter.widget-view+json": {
       "model_id": "fac12cd063a04827ad48fb4853c796e4",
       "version_major": 2,
       "version_minor": 0
      },
      "text/plain": [
       "  0%|          | 0/34 [00:00<?, ?it/s]"
      ]
     },
     "metadata": {},
     "output_type": "display_data"
    },
    {
     "name": "stdout",
     "output_type": "stream",
     "text": [
      "Epoch 2: Validation Loss: 10.539434682577848, Accuracy: 0.9\n"
     ]
    },
    {
     "data": {
      "application/vnd.jupyter.widget-view+json": {
       "model_id": "",
       "version_major": 2,
       "version_minor": 0
      },
      "text/plain": [
       "  0%|          | 0/271 [00:00<?, ?it/s]"
      ]
     },
     "metadata": {},
     "output_type": "display_data"
    },
    {
     "data": {
      "application/vnd.jupyter.widget-view+json": {
       "model_id": "887afb0cb79d462ba0745adbb62a9aab",
       "version_major": 2,
       "version_minor": 0
      },
      "text/plain": [
       "  0%|          | 0/34 [00:00<?, ?it/s]"
      ]
     },
     "metadata": {},
     "output_type": "display_data"
    },
    {
     "name": "stdout",
     "output_type": "stream",
     "text": [
      "Epoch 3: Validation Loss: 9.378190603107214, Accuracy: 0.8962962962962963\n"
     ]
    },
    {
     "data": {
      "application/vnd.jupyter.widget-view+json": {
       "model_id": "",
       "version_major": 2,
       "version_minor": 0
      },
      "text/plain": [
       "  0%|          | 0/271 [00:00<?, ?it/s]"
      ]
     },
     "metadata": {},
     "output_type": "display_data"
    },
    {
     "data": {
      "application/vnd.jupyter.widget-view+json": {
       "model_id": "e41b43e4026143bf938f9e47b13b52de",
       "version_major": 2,
       "version_minor": 0
      },
      "text/plain": [
       "  0%|          | 0/34 [00:00<?, ?it/s]"
      ]
     },
     "metadata": {},
     "output_type": "display_data"
    },
    {
     "name": "stdout",
     "output_type": "stream",
     "text": [
      "Epoch 4: Validation Loss: 8.659589983522892, Accuracy: 0.9185185185185185\n"
     ]
    },
    {
     "data": {
      "application/vnd.jupyter.widget-view+json": {
       "model_id": "",
       "version_major": 2,
       "version_minor": 0
      },
      "text/plain": [
       "  0%|          | 0/271 [00:00<?, ?it/s]"
      ]
     },
     "metadata": {},
     "output_type": "display_data"
    },
    {
     "data": {
      "application/vnd.jupyter.widget-view+json": {
       "model_id": "d63d4ff7d905492d8ef50ce99736f237",
       "version_major": 2,
       "version_minor": 0
      },
      "text/plain": [
       "  0%|          | 0/34 [00:00<?, ?it/s]"
      ]
     },
     "metadata": {},
     "output_type": "display_data"
    },
    {
     "name": "stdout",
     "output_type": "stream",
     "text": [
      "Epoch 5: Validation Loss: 7.6809294214472175, Accuracy: 0.9185185185185185\n"
     ]
    },
    {
     "data": {
      "application/vnd.jupyter.widget-view+json": {
       "model_id": "",
       "version_major": 2,
       "version_minor": 0
      },
      "text/plain": [
       "  0%|          | 0/271 [00:00<?, ?it/s]"
      ]
     },
     "metadata": {},
     "output_type": "display_data"
    },
    {
     "data": {
      "application/vnd.jupyter.widget-view+json": {
       "model_id": "90d42511a4934f7b8462f1850cc0d7ee",
       "version_major": 2,
       "version_minor": 0
      },
      "text/plain": [
       "  0%|          | 0/34 [00:00<?, ?it/s]"
      ]
     },
     "metadata": {},
     "output_type": "display_data"
    },
    {
     "name": "stdout",
     "output_type": "stream",
     "text": [
      "Epoch 6: Validation Loss: 6.776824098080397, Accuracy: 0.9185185185185185\n"
     ]
    },
    {
     "data": {
      "application/vnd.jupyter.widget-view+json": {
       "model_id": "",
       "version_major": 2,
       "version_minor": 0
      },
      "text/plain": [
       "  0%|          | 0/271 [00:00<?, ?it/s]"
      ]
     },
     "metadata": {},
     "output_type": "display_data"
    },
    {
     "data": {
      "application/vnd.jupyter.widget-view+json": {
       "model_id": "8c21c47b43b046b190073ab1a6bf4967",
       "version_major": 2,
       "version_minor": 0
      },
      "text/plain": [
       "  0%|          | 0/34 [00:00<?, ?it/s]"
      ]
     },
     "metadata": {},
     "output_type": "display_data"
    },
    {
     "name": "stdout",
     "output_type": "stream",
     "text": [
      "Epoch 7: Validation Loss: 6.173920983448625, Accuracy: 0.9185185185185185\n"
     ]
    },
    {
     "data": {
      "application/vnd.jupyter.widget-view+json": {
       "model_id": "",
       "version_major": 2,
       "version_minor": 0
      },
      "text/plain": [
       "  0%|          | 0/271 [00:00<?, ?it/s]"
      ]
     },
     "metadata": {},
     "output_type": "display_data"
    },
    {
     "data": {
      "application/vnd.jupyter.widget-view+json": {
       "model_id": "ff097e7ca53f47c2b8be3b745477fe48",
       "version_major": 2,
       "version_minor": 0
      },
      "text/plain": [
       "  0%|          | 0/34 [00:00<?, ?it/s]"
      ]
     },
     "metadata": {},
     "output_type": "display_data"
    },
    {
     "name": "stdout",
     "output_type": "stream",
     "text": [
      "Epoch 8: Validation Loss: 6.093262294773012, Accuracy: 0.9296296296296296\n"
     ]
    },
    {
     "data": {
      "application/vnd.jupyter.widget-view+json": {
       "model_id": "",
       "version_major": 2,
       "version_minor": 0
      },
      "text/plain": [
       "  0%|          | 0/271 [00:00<?, ?it/s]"
      ]
     },
     "metadata": {},
     "output_type": "display_data"
    },
    {
     "data": {
      "application/vnd.jupyter.widget-view+json": {
       "model_id": "6fe13f39a28241b39d69c8a4964fdcac",
       "version_major": 2,
       "version_minor": 0
      },
      "text/plain": [
       "  0%|          | 0/34 [00:00<?, ?it/s]"
      ]
     },
     "metadata": {},
     "output_type": "display_data"
    },
    {
     "name": "stdout",
     "output_type": "stream",
     "text": [
      "Epoch 9: Validation Loss: 5.479493718594313, Accuracy: 0.937037037037037\n",
      "[[32  0  0  0  1  0  0]\n",
      " [ 1 28  0  0  4  0  0]\n",
      " [ 0  1 37  0  1  0  0]\n",
      " [ 0  2  0 23  0  0  0]\n",
      " [ 3  0  0  0 86  0  0]\n",
      " [ 0  1  0  0  1 17  1]\n",
      " [ 0  0  0  0  0  1 30]]\n"
     ]
    },
    {
     "data": {
      "application/vnd.jupyter.widget-view+json": {
       "model_id": "11c49ee9667548dbb6e0cba5f8554de1",
       "version_major": 2,
       "version_minor": 0
      },
      "text/plain": [
       "  0%|          | 0/34 [00:00<?, ?it/s]"
      ]
     },
     "metadata": {},
     "output_type": "display_data"
    },
    {
     "name": "stdout",
     "output_type": "stream",
     "text": [
      "Epoch 9: Validation Loss: 5.388897946104407, Accuracy: 0.937037037037037\n",
      "0.937037037037037\n",
      "user config:\n",
      "model PyGraphsage\n",
      "use_gpu False\n",
      "device cpu\n",
      "load_model_path None\n",
      "network cora\n",
      "batch_size 8\n",
      "num_workers 3\n",
      "max_epoch 10\n",
      "lr 0.005\n",
      "lr_decay 0.9\n",
      "weight_decay 1e-05\n",
      "train_rate 0.8\n",
      "val_rate 0.1\n",
      "dropout 0.5\n",
      "Loading cora dataset...\n",
      "Parameter name: sage1.W, Parameter shape: torch.Size([2866, 8])\n",
      "Parameter name: sage1.bias, Parameter shape: torch.Size([8])\n",
      "Parameter name: sage2.W, Parameter shape: torch.Size([16, 8])\n",
      "Parameter name: sage2.bias, Parameter shape: torch.Size([8])\n",
      "Parameter name: att.weight, Parameter shape: torch.Size([7, 8])\n",
      "Parameter name: att.bias, Parameter shape: torch.Size([7])\n"
     ]
    },
    {
     "data": {
      "application/vnd.jupyter.widget-view+json": {
       "model_id": "",
       "version_major": 2,
       "version_minor": 0
      },
      "text/plain": [
       "  0%|          | 0/271 [00:00<?, ?it/s]"
      ]
     },
     "metadata": {},
     "output_type": "display_data"
    },
    {
     "data": {
      "application/vnd.jupyter.widget-view+json": {
       "model_id": "ccfeb0dd130c44cc81c3715c4d5c75a4",
       "version_major": 2,
       "version_minor": 0
      },
      "text/plain": [
       "  0%|          | 0/34 [00:00<?, ?it/s]"
      ]
     },
     "metadata": {},
     "output_type": "display_data"
    },
    {
     "name": "stdout",
     "output_type": "stream",
     "text": [
      "Epoch 0: Validation Loss: 24.611119031906128, Accuracy: 0.7703703703703704\n"
     ]
    },
    {
     "data": {
      "application/vnd.jupyter.widget-view+json": {
       "model_id": "",
       "version_major": 2,
       "version_minor": 0
      },
      "text/plain": [
       "  0%|          | 0/271 [00:00<?, ?it/s]"
      ]
     },
     "metadata": {},
     "output_type": "display_data"
    },
    {
     "data": {
      "application/vnd.jupyter.widget-view+json": {
       "model_id": "0f39d98e38f2473b972241dd4208bae2",
       "version_major": 2,
       "version_minor": 0
      },
      "text/plain": [
       "  0%|          | 0/34 [00:00<?, ?it/s]"
      ]
     },
     "metadata": {},
     "output_type": "display_data"
    },
    {
     "name": "stdout",
     "output_type": "stream",
     "text": [
      "Epoch 1: Validation Loss: 12.400209695100784, Accuracy: 0.9\n"
     ]
    },
    {
     "data": {
      "application/vnd.jupyter.widget-view+json": {
       "model_id": "",
       "version_major": 2,
       "version_minor": 0
      },
      "text/plain": [
       "  0%|          | 0/271 [00:00<?, ?it/s]"
      ]
     },
     "metadata": {},
     "output_type": "display_data"
    },
    {
     "data": {
      "application/vnd.jupyter.widget-view+json": {
       "model_id": "ffebf519f4ac4014896390165a9c5741",
       "version_major": 2,
       "version_minor": 0
      },
      "text/plain": [
       "  0%|          | 0/34 [00:00<?, ?it/s]"
      ]
     },
     "metadata": {},
     "output_type": "display_data"
    },
    {
     "name": "stdout",
     "output_type": "stream",
     "text": [
      "Epoch 2: Validation Loss: 8.105234962888062, Accuracy: 0.9148148148148149\n"
     ]
    },
    {
     "data": {
      "application/vnd.jupyter.widget-view+json": {
       "model_id": "",
       "version_major": 2,
       "version_minor": 0
      },
      "text/plain": [
       "  0%|          | 0/271 [00:00<?, ?it/s]"
      ]
     },
     "metadata": {},
     "output_type": "display_data"
    },
    {
     "data": {
      "application/vnd.jupyter.widget-view+json": {
       "model_id": "2713e578b9574661acb90fe8a3564c93",
       "version_major": 2,
       "version_minor": 0
      },
      "text/plain": [
       "  0%|          | 0/34 [00:00<?, ?it/s]"
      ]
     },
     "metadata": {},
     "output_type": "display_data"
    },
    {
     "name": "stdout",
     "output_type": "stream",
     "text": [
      "Epoch 3: Validation Loss: 6.139663664624095, Accuracy: 0.9407407407407408\n"
     ]
    },
    {
     "data": {
      "application/vnd.jupyter.widget-view+json": {
       "model_id": "",
       "version_major": 2,
       "version_minor": 0
      },
      "text/plain": [
       "  0%|          | 0/271 [00:00<?, ?it/s]"
      ]
     },
     "metadata": {},
     "output_type": "display_data"
    },
    {
     "data": {
      "application/vnd.jupyter.widget-view+json": {
       "model_id": "0a4cff37e4284a42874dc57336e3f533",
       "version_major": 2,
       "version_minor": 0
      },
      "text/plain": [
       "  0%|          | 0/34 [00:00<?, ?it/s]"
      ]
     },
     "metadata": {},
     "output_type": "display_data"
    },
    {
     "name": "stdout",
     "output_type": "stream",
     "text": [
      "Epoch 4: Validation Loss: 4.533499709330499, Accuracy: 0.9592592592592593\n"
     ]
    },
    {
     "data": {
      "application/vnd.jupyter.widget-view+json": {
       "model_id": "",
       "version_major": 2,
       "version_minor": 0
      },
      "text/plain": [
       "  0%|          | 0/271 [00:00<?, ?it/s]"
      ]
     },
     "metadata": {},
     "output_type": "display_data"
    },
    {
     "data": {
      "application/vnd.jupyter.widget-view+json": {
       "model_id": "611caa7197424cb1b738efc945d41e5c",
       "version_major": 2,
       "version_minor": 0
      },
      "text/plain": [
       "  0%|          | 0/34 [00:00<?, ?it/s]"
      ]
     },
     "metadata": {},
     "output_type": "display_data"
    },
    {
     "name": "stdout",
     "output_type": "stream",
     "text": [
      "Epoch 5: Validation Loss: 5.184059095568955, Accuracy: 0.9555555555555556\n"
     ]
    },
    {
     "data": {
      "application/vnd.jupyter.widget-view+json": {
       "model_id": "",
       "version_major": 2,
       "version_minor": 0
      },
      "text/plain": [
       "  0%|          | 0/271 [00:00<?, ?it/s]"
      ]
     },
     "metadata": {},
     "output_type": "display_data"
    },
    {
     "data": {
      "application/vnd.jupyter.widget-view+json": {
       "model_id": "77e228b2e3644fcfabb1e184f8c6b334",
       "version_major": 2,
       "version_minor": 0
      },
      "text/plain": [
       "  0%|          | 0/34 [00:00<?, ?it/s]"
      ]
     },
     "metadata": {},
     "output_type": "display_data"
    },
    {
     "name": "stdout",
     "output_type": "stream",
     "text": [
      "Epoch 6: Validation Loss: 3.318953998037614, Accuracy: 0.9740740740740741\n"
     ]
    },
    {
     "data": {
      "application/vnd.jupyter.widget-view+json": {
       "model_id": "",
       "version_major": 2,
       "version_minor": 0
      },
      "text/plain": [
       "  0%|          | 0/271 [00:00<?, ?it/s]"
      ]
     },
     "metadata": {},
     "output_type": "display_data"
    },
    {
     "data": {
      "application/vnd.jupyter.widget-view+json": {
       "model_id": "b57bfb533c094e059c4bbf83982285b8",
       "version_major": 2,
       "version_minor": 0
      },
      "text/plain": [
       "  0%|          | 0/34 [00:00<?, ?it/s]"
      ]
     },
     "metadata": {},
     "output_type": "display_data"
    },
    {
     "name": "stdout",
     "output_type": "stream",
     "text": [
      "Epoch 7: Validation Loss: 2.6790917622856796, Accuracy: 0.9777777777777777\n"
     ]
    },
    {
     "data": {
      "application/vnd.jupyter.widget-view+json": {
       "model_id": "",
       "version_major": 2,
       "version_minor": 0
      },
      "text/plain": [
       "  0%|          | 0/271 [00:00<?, ?it/s]"
      ]
     },
     "metadata": {},
     "output_type": "display_data"
    },
    {
     "data": {
      "application/vnd.jupyter.widget-view+json": {
       "model_id": "380d04b780644ae6a67ccb76d59410c4",
       "version_major": 2,
       "version_minor": 0
      },
      "text/plain": [
       "  0%|          | 0/34 [00:00<?, ?it/s]"
      ]
     },
     "metadata": {},
     "output_type": "display_data"
    },
    {
     "name": "stdout",
     "output_type": "stream",
     "text": [
      "Epoch 8: Validation Loss: 2.4740230416646227, Accuracy: 0.9740740740740741\n"
     ]
    },
    {
     "data": {
      "application/vnd.jupyter.widget-view+json": {
       "model_id": "",
       "version_major": 2,
       "version_minor": 0
      },
      "text/plain": [
       "  0%|          | 0/271 [00:00<?, ?it/s]"
      ]
     },
     "metadata": {},
     "output_type": "display_data"
    },
    {
     "data": {
      "application/vnd.jupyter.widget-view+json": {
       "model_id": "ffcbc6afb44f43ab88e68759316deab3",
       "version_major": 2,
       "version_minor": 0
      },
      "text/plain": [
       "  0%|          | 0/34 [00:00<?, ?it/s]"
      ]
     },
     "metadata": {},
     "output_type": "display_data"
    },
    {
     "name": "stdout",
     "output_type": "stream",
     "text": [
      "Epoch 9: Validation Loss: 1.996936150098918, Accuracy: 0.9777777777777777\n",
      "[[33  0  0  0  0  0  0]\n",
      " [ 0 31  0  0  1  1  0]\n",
      " [ 0  0 38  0  1  0  0]\n",
      " [ 0  0  0 24  0  0  1]\n",
      " [ 2  0  0  0 87  0  0]\n",
      " [ 0  0  0  0  0 20  0]\n",
      " [ 0  0  0  0  0  0 31]]\n"
     ]
    },
    {
     "data": {
      "application/vnd.jupyter.widget-view+json": {
       "model_id": "3599b6b53bda4bc9aab051f730e7b895",
       "version_major": 2,
       "version_minor": 0
      },
      "text/plain": [
       "  0%|          | 0/34 [00:00<?, ?it/s]"
      ]
     },
     "metadata": {},
     "output_type": "display_data"
    },
    {
     "name": "stdout",
     "output_type": "stream",
     "text": [
      "Epoch 9: Validation Loss: 1.9962204673793167, Accuracy: 0.9777777777777777\n",
      "0.9777777777777777\n"
     ]
    },
    {
     "data": {
      "image/png": "[encoded data removed]",
      "text/plain": [
       "<Figure size 1000x600 with 1 Axes>"
      ]
     },
     "metadata": {},
     "output_type": "display_data"
    },
    {
     "data": {
      "image/png": "[encoded data removed]",
      "text/plain": [
       "<Figure size 1000x600 with 1 Axes>"
      ]
     },
     "metadata": {},
     "output_type": "display_data"
    },
    {
     "data": {
      "image/png": "[encoded data removed]",
      "text/plain": [
       "<Figure size 1000x600 with 1 Axes>"
      ]
     },
     "metadata": {},
     "output_type": "display_data"
    },
    {
     "data": {
      "image/png": "[encoded data removed]",
      "text/plain": [
       "<Figure size 1000x600 with 1 Axes>"
      ]
     },
     "metadata": {},
     "output_type": "display_data"
    }
   ],
   "source": [
    "if __name__ == '__main__':\n",
    "    opt.network = 'cora'  # SELECT HERE THE DATASET YOU WANT\n",
    "    opt.train_rate = 0.8\n",
    "    opt.val_rate = 0.1\n",
    "    opt.max_epoch = 10\n",
    "    model_names = ['PyGCN', 'PyGraphsage']\n",
    "    model_classes = [models.PyGCN, models.Graphsage]\n",
    "\n",
    "    # add the GAT\n",
    "    # model_names = ['PyGraphsage']\n",
    "    # model_classes = [models.PyGraphsage]\n",
    "\n",
    "    train_loss_data = {}\n",
    "    val_loss_data = {}  # Add this line to store validation losses\n",
    "    val_accuracy_data = {}\n",
    "\n",
    "    for model_name, model_class in zip(model_names, model_classes):\n",
    "        save_path = f\"{model_name}_model.pth\"  # Specify the path where you want to save the model\n",
    "        train_losses, val_losses, val_accuracies, conf_matrix,  test_loss, test_accuracy, test_labels_all, test_predict_all, test_conf_matrix = train_and_evaluate(model_name, model_class, save_model_path=save_path)\n",
    "        train_loss_data[model_name] = train_losses\n",
    "        val_loss_data[model_name] = val_losses  # Store validation losses\n",
    "        val_accuracy_data[model_name] = val_accuracies\n",
    "        print(test_accuracy)\n",
    "\n",
    "        \n",
    "     # Create line plots for training and validation losses\n",
    "    plt.figure(figsize=(10, 6))\n",
    "    \n",
    "    # Plot training losses\n",
    "    for model_name, train_losses in train_loss_data.items():\n",
    "        plt.plot(train_losses, label=f'Training - {model_name}')\n",
    "    \n",
    "    # Plot validation losses\n",
    "    for model_name, val_losses in val_loss_data.items():\n",
    "        plt.plot(val_losses, label=f'Validation - {model_name}', linestyle='dashed')\n",
    "    \n",
    "    plt.xlabel(\"Epochs\")\n",
    "    plt.ylabel(\"Loss\")\n",
    "    plt.title(\"Training and Validation Loss Comparison\")\n",
    "    plt.legend()\n",
    "    plt.savefig(\"combined_loss_plot.png\")\n",
    "    plt.show()\n",
    "\n",
    "    \n",
    "    # Create line plots for validation accuracies\n",
    "    plt.figure(figsize=(10, 6))\n",
    "    for model_name, val_accuracies in val_accuracy_data.items():\n",
    "        plt.plot(val_accuracies, label=model_name)\n",
    "    plt.xlabel(\"Epochs\")\n",
    "    plt.ylabel(\"Validation Accuracy\")\n",
    "    plt.title(\"Validation Accuracy Comparison\")\n",
    "    plt.legend()\n",
    "    plt.savefig(\"plot_val_acc.png\")\n",
    "    plt.show()\n",
    "\n",
    "    # Create line plots for training losses\n",
    "    plt.figure(figsize=(10, 6))\n",
    "    for model_name, train_losses in train_loss_data.items():\n",
    "        plt.plot(train_losses, label=model_name)\n",
    "    plt.xlabel(\"Epochs\")\n",
    "    plt.ylabel(\"Training Loss\")\n",
    "    plt.title(\"Training Loss Comparison\")\n",
    "    plt.legend()\n",
    "    plt.savefig(\"plot.png\")\n",
    "    \n",
    "    plt.show()\n",
    "\n",
    "    # Create line plots for validation losses\n",
    "    plt.figure(figsize=(10, 6))\n",
    "    for model_name, val_losses in val_loss_data.items():\n",
    "        plt.plot(val_losses, label=model_name)\n",
    "    plt.xlabel(\"Epochs\")\n",
    "    plt.ylabel(\"Validation Loss\")\n",
    "    plt.title(\"Validation Loss Comparison\")\n",
    "    plt.legend()\n",
    "    plt.savefig(\"plot_val_loss.png\")\n",
    "    plt.show()\n",
    "\n"
   ]
  },
  {
   "cell_type": "code",
   "execution_count": 5,
   "id": "1cb7d1f4-0805-4f7c-a52c-28e4c290055a",
   "metadata": {
    "lines_to_next_cell": 1
   },
   "outputs": [
    {
     "name": "stdout",
     "output_type": "stream",
     "text": [
      "Loading cora dataset...\n",
      "Split 2166 270 270\n"
     ]
    }
   ],
   "source": [
    "### Node degree\n",
    "adj, features, labels, idx_train, idx_val, idx_test, edges,classes_dict = data.load_data(opt)\n",
    "node_degrees_dict = {}\n",
    "print(\"Split\", len(idx_train), len(idx_val), len(idx_test))\n",
    "# Count the out-degrees for each node\n",
    "for edge in edges:\n",
    "    for node in edge:\n",
    "        if node in node_degrees_dict:\n",
    "            node_degrees_dict[node] += 1\n",
    "        else:\n",
    "            node_degrees_dict[node] = 1\n",
    "\n",
    "# Print or use the dictionary\n",
    "# print(f\"\"\"Node Degrees {opt.network}:\"\"\", node_degrees_dict)"
   ]
  },
  {
   "cell_type": "code",
   "execution_count": 6,
   "id": "058888e0-4415-4d69-b52b-edc9f59e9474",
   "metadata": {},
   "outputs": [
    {
     "data": {
      "text/plain": [
       "{'Reinforcement_Learning': 0,\n",
       " 'Theory': 1,\n",
       " 'Probabilistic_Methods': 2,\n",
       " 'Genetic_Algorithms': 3,\n",
       " 'Neural_Networks': 4,\n",
       " 'Rule_Learning': 5,\n",
       " 'Case_Based': 6}"
      ]
     },
     "execution_count": 6,
     "metadata": {},
     "output_type": "execute_result"
    }
   ],
   "source": [
    "classes_dict"
   ]
  },
  {
   "cell_type": "code",
   "execution_count": 7,
   "id": "32a48b99-f29f-45e9-8099-b9de7aafcb5a",
   "metadata": {},
   "outputs": [
    {
     "data": {
      "text/plain": [
       "array([[33,  0,  0,  0,  0,  0,  0],\n",
       "       [ 0, 31,  0,  0,  1,  1,  0],\n",
       "       [ 0,  0, 38,  0,  1,  0,  0],\n",
       "       [ 0,  0,  0, 24,  0,  0,  1],\n",
       "       [ 2,  0,  0,  0, 87,  0,  0],\n",
       "       [ 0,  0,  0,  0,  0, 20,  0],\n",
       "       [ 0,  0,  0,  0,  0,  0, 31]])"
      ]
     },
     "execution_count": 7,
     "metadata": {},
     "output_type": "execute_result"
    }
   ],
   "source": [
    "test_conf_matrix"
   ]
  },
  {
   "cell_type": "code",
   "execution_count": 8,
   "id": "a32c6c56-23a4-416b-ac78-8305caa57b39",
   "metadata": {},
   "outputs": [
    {
     "data": {
      "text/plain": [
       "0.9777777777777777"
      ]
     },
     "execution_count": 8,
     "metadata": {},
     "output_type": "execute_result"
    }
   ],
   "source": [
    "test_accuracy"
   ]
  },
  {
   "cell_type": "code",
   "execution_count": 9,
   "id": "14c77378-daf7-46a2-bfdb-8aa024b1c661",
   "metadata": {},
   "outputs": [
    {
     "data": {
      "text/plain": [
       "{'PyGCN': [1.1427546338731511,\n",
       "  0.4152641168682118,\n",
       "  0.3082086613119968,\n",
       "  0.25973441795449415,\n",
       "  0.23907365461612098,\n",
       "  0.21181227414906575,\n",
       "  0.20328605954872095,\n",
       "  0.18289871554653336,\n",
       "  0.17127505752620564,\n",
       "  0.16398021254544162],\n",
       " 'PyGraphsage': [1.2513433360525603,\n",
       "  0.6066966584687743,\n",
       "  0.3950565892694401,\n",
       "  0.30538543241229116,\n",
       "  0.2595025589466232,\n",
       "  0.2250656804741735,\n",
       "  0.2060781541328561,\n",
       "  0.17850175803669854,\n",
       "  0.16066206664592714,\n",
       "  0.16767905868235047]}"
      ]
     },
     "execution_count": 9,
     "metadata": {},
     "output_type": "execute_result"
    }
   ],
   "source": [
    "train_loss_data"
   ]
  },
  {
   "cell_type": "code",
   "execution_count": 10,
   "id": "f1a196ef-b19c-4b2f-9885-390699ad0efb",
   "metadata": {},
   "outputs": [
    {
     "data": {
      "text/plain": [
       "{'PyGCN': [0.8518518518518519,\n",
       "  0.8851851851851852,\n",
       "  0.9,\n",
       "  0.8962962962962963,\n",
       "  0.9185185185185185,\n",
       "  0.9185185185185185,\n",
       "  0.9185185185185185,\n",
       "  0.9185185185185185,\n",
       "  0.9296296296296296,\n",
       "  0.937037037037037],\n",
       " 'PyGraphsage': [0.7703703703703704,\n",
       "  0.9,\n",
       "  0.9148148148148149,\n",
       "  0.9407407407407408,\n",
       "  0.9592592592592593,\n",
       "  0.9555555555555556,\n",
       "  0.9740740740740741,\n",
       "  0.9777777777777777,\n",
       "  0.9740740740740741,\n",
       "  0.9777777777777777]}"
      ]
     },
     "execution_count": 10,
     "metadata": {},
     "output_type": "execute_result"
    }
   ],
   "source": [
    "val_accuracy_data"
   ]
  },
  {
   "cell_type": "code",
   "execution_count": 11,
   "id": "4bc4380f-6c9e-4138-8b1d-054158f29eaa",
   "metadata": {},
   "outputs": [
    {
     "name": "stdout",
     "output_type": "stream",
     "text": [
      "7\n",
      "7\n"
     ]
    },
    {
     "ename": "NameError",
     "evalue": "name 'row_proportions' is not defined",
     "output_type": "error",
     "traceback": [
      "\u001b[0;31m---------------------------------------------------------------------------\u001b[0m",
      "\u001b[0;31mNameError\u001b[0m                                 Traceback (most recent call last)",
      "Cell \u001b[0;32mIn[11], line 23\u001b[0m\n\u001b[1;32m     21\u001b[0m \u001b[38;5;28mprint\u001b[39m(\u001b[38;5;28mlen\u001b[39m(test_conf_matrix))\n\u001b[1;32m     22\u001b[0m \u001b[38;5;28mprint\u001b[39m(\u001b[38;5;28mlen\u001b[39m(class_labels))\n\u001b[0;32m---> 23\u001b[0m \u001b[38;5;28mprint\u001b[39m(\u001b[43mrow_proportions\u001b[49m)\n\u001b[1;32m     24\u001b[0m \u001b[38;5;28mprint\u001b[39m(class_labels)\n\u001b[1;32m     26\u001b[0m \u001b[38;5;66;03m# # Proportions\u001b[39;00m\n\u001b[1;32m     27\u001b[0m \u001b[38;5;66;03m# row_proportions = row_sums / total_sum * 100\u001b[39;00m\n\u001b[1;32m     28\u001b[0m \u001b[38;5;66;03m# column_proportions = column_sums / total_sum * 100\u001b[39;00m\n\u001b[0;32m   (...)\u001b[0m\n\u001b[1;32m     41\u001b[0m \u001b[38;5;66;03m# plt.tight_layout()\u001b[39;00m\n\u001b[1;32m     42\u001b[0m \u001b[38;5;66;03m# plt.show()\u001b[39;00m\n",
      "\u001b[0;31mNameError\u001b[0m: name 'row_proportions' is not defined"
     ]
    }
   ],
   "source": [
    "# Sum of rows\n",
    "\n",
    "class_labels = list(classes_dict.keys())\n",
    "row_sums = np.sum(test_conf_matrix, axis=1)\n",
    "\n",
    "# Sum of columns\n",
    "column_sums = np.sum(test_conf_matrix, axis=0)\n",
    "# Sum total\n",
    "matrix_sum = np.sum(test_conf_matrix)\n",
    "\n",
    "\n",
    "# print(\"Sum of rows:\", row_sums/matrix_sum*100)\n",
    "# print(\"Sum of columns:\", column_sums/matrix_sum*100)\n",
    "\n",
    "# Convert confusion matrix to percentages\n",
    "cora_gcn_matrix_percentage = test_conf_matrix.astype('float') / test_conf_matrix.sum(axis=1)[:, np.newaxis] * 100\n",
    "\n",
    "\n",
    "total_sum = np.sum(test_conf_matrix)\n",
    "\n",
    "print(len(test_conf_matrix))\n",
    "print(len(class_labels))\n",
    "print(row_proportions)\n",
    "print(class_labels)\n",
    "\n",
    "# # Proportions\n",
    "# row_proportions = row_sums / total_sum * 100\n",
    "# column_proportions = column_sums / total_sum * 100\n",
    "\n",
    "# # Pie chart for row proportions with actual values\n",
    "# plt.figure(figsize=(10, 5))\n",
    "# plt.subplot(1, 2, 1)\n",
    "# plt.pie(row_proportions, labels=class_labels, autopct='%1.1f%%')\n",
    "# plt.title('Original values')\n",
    "\n",
    "# # Pie chart for column proportions with predicted values\n",
    "# plt.subplot(1, 2, 2)\n",
    "# plt.pie(column_proportions, labels=class_labels, autopct='%1.1f%%')\n",
    "# plt.title('Predicted values')\n",
    "\n",
    "# plt.tight_layout()\n",
    "# plt.show()\n"
   ]
  },
  {
   "cell_type": "code",
   "execution_count": null,
   "id": "36c16170-3a2e-4172-b444-367c56ce7101",
   "metadata": {},
   "outputs": [],
   "source": [
    "len(list(classes_dict.keys()))"
   ]
  }
 ],
 "metadata": {
  "jupytext": {
   "cell_metadata_filter": "-all",
   "main_language": "python",
   "notebook_metadata_filter": "-all"
  },
  "kernelspec": {
   "display_name": "Python 3 (ipykernel)",
   "language": "python",
   "name": "python3"
  },
  "language_info": {
   "codemirror_mode": {
    "name": "ipython",
    "version": 3
   },
   "file_extension": ".py",
   "mimetype": "text/x-python",
   "name": "python",
   "nbconvert_exporter": "python",
   "pygments_lexer": "ipython3",
   "version": "3.10.12"
  }
 },
 "nbformat": 4,
 "nbformat_minor": 5
}
